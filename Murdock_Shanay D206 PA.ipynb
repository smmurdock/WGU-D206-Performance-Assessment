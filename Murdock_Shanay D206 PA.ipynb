{
 "cells": [
  {
   "cell_type": "markdown",
   "id": "805cac0a-cdf2-4b1a-8bea-15169ad19dc8",
   "metadata": {},
   "source": [
    "# Libraries and Data"
   ]
  },
  {
   "cell_type": "code",
   "execution_count": 1,
   "id": "1444e383-0090-414b-946b-c66e06798e40",
   "metadata": {},
   "outputs": [],
   "source": [
    "import pandas as pd\n",
    "import numpy as np\n",
    "import matplotlib.pyplot as plt\n",
    "import seaborn as sns\n",
    "from sklearn.decomposition import PCA\n",
    "from scipy import stats"
   ]
  },
  {
   "cell_type": "code",
   "execution_count": 2,
   "id": "13bd3919-619b-4c54-99be-257d5f46b741",
   "metadata": {},
   "outputs": [
    {
     "data": {
      "text/html": [
       "<div>\n",
       "<style scoped>\n",
       "    .dataframe tbody tr th:only-of-type {\n",
       "        vertical-align: middle;\n",
       "    }\n",
       "\n",
       "    .dataframe tbody tr th {\n",
       "        vertical-align: top;\n",
       "    }\n",
       "\n",
       "    .dataframe thead th {\n",
       "        text-align: right;\n",
       "    }\n",
       "</style>\n",
       "<table border=\"1\" class=\"dataframe\">\n",
       "  <thead>\n",
       "    <tr style=\"text-align: right;\">\n",
       "      <th></th>\n",
       "      <th>CaseOrder</th>\n",
       "      <th>Customer_id</th>\n",
       "      <th>Interaction</th>\n",
       "      <th>UID</th>\n",
       "      <th>City</th>\n",
       "      <th>State</th>\n",
       "      <th>County</th>\n",
       "      <th>Zip</th>\n",
       "      <th>Lat</th>\n",
       "      <th>Lng</th>\n",
       "      <th>...</th>\n",
       "      <th>TotalCharge</th>\n",
       "      <th>Additional_charges</th>\n",
       "      <th>Item1</th>\n",
       "      <th>Item2</th>\n",
       "      <th>Item3</th>\n",
       "      <th>Item4</th>\n",
       "      <th>Item5</th>\n",
       "      <th>Item6</th>\n",
       "      <th>Item7</th>\n",
       "      <th>Item8</th>\n",
       "    </tr>\n",
       "  </thead>\n",
       "  <tbody>\n",
       "    <tr>\n",
       "      <th>1</th>\n",
       "      <td>1</td>\n",
       "      <td>C412403</td>\n",
       "      <td>8cd49b13-f45a-4b47-a2bd-173ffa932c2f</td>\n",
       "      <td>3a83ddb66e2ae73798bdf1d705dc0932</td>\n",
       "      <td>Eva</td>\n",
       "      <td>AL</td>\n",
       "      <td>Morgan</td>\n",
       "      <td>35621</td>\n",
       "      <td>34.34960</td>\n",
       "      <td>-86.72508</td>\n",
       "      <td>...</td>\n",
       "      <td>3191.048774</td>\n",
       "      <td>17939.403420</td>\n",
       "      <td>3</td>\n",
       "      <td>3</td>\n",
       "      <td>2</td>\n",
       "      <td>2</td>\n",
       "      <td>4</td>\n",
       "      <td>3</td>\n",
       "      <td>3</td>\n",
       "      <td>4</td>\n",
       "    </tr>\n",
       "    <tr>\n",
       "      <th>2</th>\n",
       "      <td>2</td>\n",
       "      <td>Z919181</td>\n",
       "      <td>d2450b70-0337-4406-bdbb-bc1037f1734c</td>\n",
       "      <td>176354c5eef714957d486009feabf195</td>\n",
       "      <td>Marianna</td>\n",
       "      <td>FL</td>\n",
       "      <td>Jackson</td>\n",
       "      <td>32446</td>\n",
       "      <td>30.84513</td>\n",
       "      <td>-85.22907</td>\n",
       "      <td>...</td>\n",
       "      <td>4214.905346</td>\n",
       "      <td>17612.998120</td>\n",
       "      <td>3</td>\n",
       "      <td>4</td>\n",
       "      <td>3</td>\n",
       "      <td>4</td>\n",
       "      <td>4</td>\n",
       "      <td>4</td>\n",
       "      <td>3</td>\n",
       "      <td>3</td>\n",
       "    </tr>\n",
       "    <tr>\n",
       "      <th>3</th>\n",
       "      <td>3</td>\n",
       "      <td>F995323</td>\n",
       "      <td>a2057123-abf5-4a2c-abad-8ffe33512562</td>\n",
       "      <td>e19a0fa00aeda885b8a436757e889bc9</td>\n",
       "      <td>Sioux Falls</td>\n",
       "      <td>SD</td>\n",
       "      <td>Minnehaha</td>\n",
       "      <td>57110</td>\n",
       "      <td>43.54321</td>\n",
       "      <td>-96.63772</td>\n",
       "      <td>...</td>\n",
       "      <td>2177.586768</td>\n",
       "      <td>17505.192460</td>\n",
       "      <td>2</td>\n",
       "      <td>4</td>\n",
       "      <td>4</td>\n",
       "      <td>4</td>\n",
       "      <td>3</td>\n",
       "      <td>4</td>\n",
       "      <td>3</td>\n",
       "      <td>3</td>\n",
       "    </tr>\n",
       "    <tr>\n",
       "      <th>4</th>\n",
       "      <td>4</td>\n",
       "      <td>A879973</td>\n",
       "      <td>1dec528d-eb34-4079-adce-0d7a40e82205</td>\n",
       "      <td>cd17d7b6d152cb6f23957346d11c3f07</td>\n",
       "      <td>New Richland</td>\n",
       "      <td>MN</td>\n",
       "      <td>Waseca</td>\n",
       "      <td>56072</td>\n",
       "      <td>43.89744</td>\n",
       "      <td>-93.51479</td>\n",
       "      <td>...</td>\n",
       "      <td>2465.118965</td>\n",
       "      <td>12993.437350</td>\n",
       "      <td>3</td>\n",
       "      <td>5</td>\n",
       "      <td>5</td>\n",
       "      <td>3</td>\n",
       "      <td>4</td>\n",
       "      <td>5</td>\n",
       "      <td>5</td>\n",
       "      <td>5</td>\n",
       "    </tr>\n",
       "    <tr>\n",
       "      <th>5</th>\n",
       "      <td>5</td>\n",
       "      <td>C544523</td>\n",
       "      <td>5885f56b-d6da-43a3-8760-83583af94266</td>\n",
       "      <td>d2f0425877b10ed6bb381f3e2579424a</td>\n",
       "      <td>West Point</td>\n",
       "      <td>VA</td>\n",
       "      <td>King William</td>\n",
       "      <td>23181</td>\n",
       "      <td>37.59894</td>\n",
       "      <td>-76.88958</td>\n",
       "      <td>...</td>\n",
       "      <td>1885.655137</td>\n",
       "      <td>3716.525786</td>\n",
       "      <td>2</td>\n",
       "      <td>1</td>\n",
       "      <td>3</td>\n",
       "      <td>3</td>\n",
       "      <td>5</td>\n",
       "      <td>3</td>\n",
       "      <td>4</td>\n",
       "      <td>3</td>\n",
       "    </tr>\n",
       "  </tbody>\n",
       "</table>\n",
       "<p>5 rows × 52 columns</p>\n",
       "</div>"
      ],
      "text/plain": [
       "   CaseOrder Customer_id                           Interaction  \\\n",
       "1          1     C412403  8cd49b13-f45a-4b47-a2bd-173ffa932c2f   \n",
       "2          2     Z919181  d2450b70-0337-4406-bdbb-bc1037f1734c   \n",
       "3          3     F995323  a2057123-abf5-4a2c-abad-8ffe33512562   \n",
       "4          4     A879973  1dec528d-eb34-4079-adce-0d7a40e82205   \n",
       "5          5     C544523  5885f56b-d6da-43a3-8760-83583af94266   \n",
       "\n",
       "                                UID          City State        County    Zip  \\\n",
       "1  3a83ddb66e2ae73798bdf1d705dc0932           Eva    AL        Morgan  35621   \n",
       "2  176354c5eef714957d486009feabf195      Marianna    FL       Jackson  32446   \n",
       "3  e19a0fa00aeda885b8a436757e889bc9   Sioux Falls    SD     Minnehaha  57110   \n",
       "4  cd17d7b6d152cb6f23957346d11c3f07  New Richland    MN        Waseca  56072   \n",
       "5  d2f0425877b10ed6bb381f3e2579424a    West Point    VA  King William  23181   \n",
       "\n",
       "        Lat       Lng  ...  TotalCharge Additional_charges Item1 Item2  Item3  \\\n",
       "1  34.34960 -86.72508  ...  3191.048774       17939.403420     3     3      2   \n",
       "2  30.84513 -85.22907  ...  4214.905346       17612.998120     3     4      3   \n",
       "3  43.54321 -96.63772  ...  2177.586768       17505.192460     2     4      4   \n",
       "4  43.89744 -93.51479  ...  2465.118965       12993.437350     3     5      5   \n",
       "5  37.59894 -76.88958  ...  1885.655137        3716.525786     2     1      3   \n",
       "\n",
       "   Item4 Item5 Item6  Item7 Item8  \n",
       "1      2     4     3      3     4  \n",
       "2      4     4     4      3     3  \n",
       "3      4     3     4      3     3  \n",
       "4      3     4     5      5     5  \n",
       "5      3     5     3      4     3  \n",
       "\n",
       "[5 rows x 52 columns]"
      ]
     },
     "execution_count": 2,
     "metadata": {},
     "output_type": "execute_result"
    }
   ],
   "source": [
    "# Load data, setting first column as DataFrame index\n",
    "df = pd.read_csv('medical_raw_data.csv', index_col=0)\n",
    "df.head()"
   ]
  },
  {
   "cell_type": "markdown",
   "id": "10db04e9-efcb-4d27-8ded-5747cde77eee",
   "metadata": {},
   "source": [
    "# Initial Exploration of full DataFrame"
   ]
  },
  {
   "cell_type": "code",
   "execution_count": 3,
   "id": "fdc8b2cc-b9cf-4583-934f-171f67e1da5d",
   "metadata": {},
   "outputs": [
    {
     "data": {
      "text/plain": [
       "(10000, 52)"
      ]
     },
     "execution_count": 3,
     "metadata": {},
     "output_type": "execute_result"
    }
   ],
   "source": [
    "# Verify the shape of the DataFrame as 10,000 rows and 52 columns\n",
    "df.shape"
   ]
  },
  {
   "cell_type": "code",
   "execution_count": 4,
   "id": "7153034a-4326-40a5-9018-3d2b9c37396c",
   "metadata": {},
   "outputs": [
    {
     "data": {
      "text/html": [
       "<div>\n",
       "<style scoped>\n",
       "    .dataframe tbody tr th:only-of-type {\n",
       "        vertical-align: middle;\n",
       "    }\n",
       "\n",
       "    .dataframe tbody tr th {\n",
       "        vertical-align: top;\n",
       "    }\n",
       "\n",
       "    .dataframe thead th {\n",
       "        text-align: right;\n",
       "    }\n",
       "</style>\n",
       "<table border=\"1\" class=\"dataframe\">\n",
       "  <thead>\n",
       "    <tr style=\"text-align: right;\">\n",
       "      <th></th>\n",
       "      <th>count</th>\n",
       "      <th>mean</th>\n",
       "      <th>std</th>\n",
       "      <th>min</th>\n",
       "      <th>25%</th>\n",
       "      <th>50%</th>\n",
       "      <th>75%</th>\n",
       "      <th>max</th>\n",
       "    </tr>\n",
       "  </thead>\n",
       "  <tbody>\n",
       "    <tr>\n",
       "      <th>CaseOrder</th>\n",
       "      <td>10000.0</td>\n",
       "      <td>5000.500000</td>\n",
       "      <td>2886.895680</td>\n",
       "      <td>1.000000</td>\n",
       "      <td>2500.750000</td>\n",
       "      <td>5000.500000</td>\n",
       "      <td>7500.250000</td>\n",
       "      <td>10000.000000</td>\n",
       "    </tr>\n",
       "    <tr>\n",
       "      <th>Zip</th>\n",
       "      <td>10000.0</td>\n",
       "      <td>50159.323900</td>\n",
       "      <td>27469.588208</td>\n",
       "      <td>610.000000</td>\n",
       "      <td>27592.000000</td>\n",
       "      <td>50207.000000</td>\n",
       "      <td>72411.750000</td>\n",
       "      <td>99929.000000</td>\n",
       "    </tr>\n",
       "    <tr>\n",
       "      <th>Lat</th>\n",
       "      <td>10000.0</td>\n",
       "      <td>38.751099</td>\n",
       "      <td>5.403085</td>\n",
       "      <td>17.967190</td>\n",
       "      <td>35.255120</td>\n",
       "      <td>39.419355</td>\n",
       "      <td>42.044175</td>\n",
       "      <td>70.560990</td>\n",
       "    </tr>\n",
       "    <tr>\n",
       "      <th>Lng</th>\n",
       "      <td>10000.0</td>\n",
       "      <td>-91.243080</td>\n",
       "      <td>15.205998</td>\n",
       "      <td>-174.209690</td>\n",
       "      <td>-97.352982</td>\n",
       "      <td>-88.397230</td>\n",
       "      <td>-80.438050</td>\n",
       "      <td>-65.290170</td>\n",
       "    </tr>\n",
       "    <tr>\n",
       "      <th>Population</th>\n",
       "      <td>10000.0</td>\n",
       "      <td>9965.253800</td>\n",
       "      <td>14824.758614</td>\n",
       "      <td>0.000000</td>\n",
       "      <td>694.750000</td>\n",
       "      <td>2769.000000</td>\n",
       "      <td>13945.000000</td>\n",
       "      <td>122814.000000</td>\n",
       "    </tr>\n",
       "    <tr>\n",
       "      <th>Children</th>\n",
       "      <td>7412.0</td>\n",
       "      <td>2.098219</td>\n",
       "      <td>2.155427</td>\n",
       "      <td>0.000000</td>\n",
       "      <td>0.000000</td>\n",
       "      <td>1.000000</td>\n",
       "      <td>3.000000</td>\n",
       "      <td>10.000000</td>\n",
       "    </tr>\n",
       "    <tr>\n",
       "      <th>Age</th>\n",
       "      <td>7586.0</td>\n",
       "      <td>53.295676</td>\n",
       "      <td>20.659182</td>\n",
       "      <td>18.000000</td>\n",
       "      <td>35.000000</td>\n",
       "      <td>53.000000</td>\n",
       "      <td>71.000000</td>\n",
       "      <td>89.000000</td>\n",
       "    </tr>\n",
       "    <tr>\n",
       "      <th>Income</th>\n",
       "      <td>7536.0</td>\n",
       "      <td>40484.438268</td>\n",
       "      <td>28664.861050</td>\n",
       "      <td>154.080000</td>\n",
       "      <td>19450.792500</td>\n",
       "      <td>33942.280000</td>\n",
       "      <td>54075.235000</td>\n",
       "      <td>207249.130000</td>\n",
       "    </tr>\n",
       "    <tr>\n",
       "      <th>VitD_levels</th>\n",
       "      <td>10000.0</td>\n",
       "      <td>19.412675</td>\n",
       "      <td>6.723277</td>\n",
       "      <td>9.519012</td>\n",
       "      <td>16.513171</td>\n",
       "      <td>18.080560</td>\n",
       "      <td>19.789740</td>\n",
       "      <td>53.019124</td>\n",
       "    </tr>\n",
       "    <tr>\n",
       "      <th>Doc_visits</th>\n",
       "      <td>10000.0</td>\n",
       "      <td>5.012200</td>\n",
       "      <td>1.045734</td>\n",
       "      <td>1.000000</td>\n",
       "      <td>4.000000</td>\n",
       "      <td>5.000000</td>\n",
       "      <td>6.000000</td>\n",
       "      <td>9.000000</td>\n",
       "    </tr>\n",
       "    <tr>\n",
       "      <th>Full_meals_eaten</th>\n",
       "      <td>10000.0</td>\n",
       "      <td>1.001400</td>\n",
       "      <td>1.008117</td>\n",
       "      <td>0.000000</td>\n",
       "      <td>0.000000</td>\n",
       "      <td>1.000000</td>\n",
       "      <td>2.000000</td>\n",
       "      <td>7.000000</td>\n",
       "    </tr>\n",
       "    <tr>\n",
       "      <th>VitD_supp</th>\n",
       "      <td>10000.0</td>\n",
       "      <td>0.398900</td>\n",
       "      <td>0.628505</td>\n",
       "      <td>0.000000</td>\n",
       "      <td>0.000000</td>\n",
       "      <td>0.000000</td>\n",
       "      <td>1.000000</td>\n",
       "      <td>5.000000</td>\n",
       "    </tr>\n",
       "    <tr>\n",
       "      <th>Overweight</th>\n",
       "      <td>9018.0</td>\n",
       "      <td>0.709137</td>\n",
       "      <td>0.454186</td>\n",
       "      <td>0.000000</td>\n",
       "      <td>0.000000</td>\n",
       "      <td>1.000000</td>\n",
       "      <td>1.000000</td>\n",
       "      <td>1.000000</td>\n",
       "    </tr>\n",
       "    <tr>\n",
       "      <th>Anxiety</th>\n",
       "      <td>9016.0</td>\n",
       "      <td>0.322316</td>\n",
       "      <td>0.467389</td>\n",
       "      <td>0.000000</td>\n",
       "      <td>0.000000</td>\n",
       "      <td>0.000000</td>\n",
       "      <td>1.000000</td>\n",
       "      <td>1.000000</td>\n",
       "    </tr>\n",
       "    <tr>\n",
       "      <th>Initial_days</th>\n",
       "      <td>8944.0</td>\n",
       "      <td>34.432082</td>\n",
       "      <td>26.287050</td>\n",
       "      <td>1.001981</td>\n",
       "      <td>7.911709</td>\n",
       "      <td>34.446941</td>\n",
       "      <td>61.124654</td>\n",
       "      <td>71.981486</td>\n",
       "    </tr>\n",
       "    <tr>\n",
       "      <th>TotalCharge</th>\n",
       "      <td>10000.0</td>\n",
       "      <td>5891.538261</td>\n",
       "      <td>3377.558136</td>\n",
       "      <td>1256.751699</td>\n",
       "      <td>3253.239465</td>\n",
       "      <td>5852.250564</td>\n",
       "      <td>7614.989701</td>\n",
       "      <td>21524.224210</td>\n",
       "    </tr>\n",
       "    <tr>\n",
       "      <th>Additional_charges</th>\n",
       "      <td>10000.0</td>\n",
       "      <td>12934.528586</td>\n",
       "      <td>6542.601544</td>\n",
       "      <td>3125.702716</td>\n",
       "      <td>7986.487642</td>\n",
       "      <td>11573.979365</td>\n",
       "      <td>15626.491033</td>\n",
       "      <td>30566.073130</td>\n",
       "    </tr>\n",
       "    <tr>\n",
       "      <th>Item1</th>\n",
       "      <td>10000.0</td>\n",
       "      <td>3.518800</td>\n",
       "      <td>1.031966</td>\n",
       "      <td>1.000000</td>\n",
       "      <td>3.000000</td>\n",
       "      <td>4.000000</td>\n",
       "      <td>4.000000</td>\n",
       "      <td>8.000000</td>\n",
       "    </tr>\n",
       "    <tr>\n",
       "      <th>Item2</th>\n",
       "      <td>10000.0</td>\n",
       "      <td>3.506700</td>\n",
       "      <td>1.034825</td>\n",
       "      <td>1.000000</td>\n",
       "      <td>3.000000</td>\n",
       "      <td>3.000000</td>\n",
       "      <td>4.000000</td>\n",
       "      <td>7.000000</td>\n",
       "    </tr>\n",
       "    <tr>\n",
       "      <th>Item3</th>\n",
       "      <td>10000.0</td>\n",
       "      <td>3.511100</td>\n",
       "      <td>1.032755</td>\n",
       "      <td>1.000000</td>\n",
       "      <td>3.000000</td>\n",
       "      <td>4.000000</td>\n",
       "      <td>4.000000</td>\n",
       "      <td>8.000000</td>\n",
       "    </tr>\n",
       "    <tr>\n",
       "      <th>Item4</th>\n",
       "      <td>10000.0</td>\n",
       "      <td>3.515100</td>\n",
       "      <td>1.036282</td>\n",
       "      <td>1.000000</td>\n",
       "      <td>3.000000</td>\n",
       "      <td>4.000000</td>\n",
       "      <td>4.000000</td>\n",
       "      <td>7.000000</td>\n",
       "    </tr>\n",
       "    <tr>\n",
       "      <th>Item5</th>\n",
       "      <td>10000.0</td>\n",
       "      <td>3.496900</td>\n",
       "      <td>1.030192</td>\n",
       "      <td>1.000000</td>\n",
       "      <td>3.000000</td>\n",
       "      <td>3.000000</td>\n",
       "      <td>4.000000</td>\n",
       "      <td>7.000000</td>\n",
       "    </tr>\n",
       "    <tr>\n",
       "      <th>Item6</th>\n",
       "      <td>10000.0</td>\n",
       "      <td>3.522500</td>\n",
       "      <td>1.032376</td>\n",
       "      <td>1.000000</td>\n",
       "      <td>3.000000</td>\n",
       "      <td>4.000000</td>\n",
       "      <td>4.000000</td>\n",
       "      <td>7.000000</td>\n",
       "    </tr>\n",
       "    <tr>\n",
       "      <th>Item7</th>\n",
       "      <td>10000.0</td>\n",
       "      <td>3.494000</td>\n",
       "      <td>1.021405</td>\n",
       "      <td>1.000000</td>\n",
       "      <td>3.000000</td>\n",
       "      <td>3.000000</td>\n",
       "      <td>4.000000</td>\n",
       "      <td>7.000000</td>\n",
       "    </tr>\n",
       "    <tr>\n",
       "      <th>Item8</th>\n",
       "      <td>10000.0</td>\n",
       "      <td>3.509700</td>\n",
       "      <td>1.042312</td>\n",
       "      <td>1.000000</td>\n",
       "      <td>3.000000</td>\n",
       "      <td>3.000000</td>\n",
       "      <td>4.000000</td>\n",
       "      <td>7.000000</td>\n",
       "    </tr>\n",
       "  </tbody>\n",
       "</table>\n",
       "</div>"
      ],
      "text/plain": [
       "                      count          mean           std          min  \\\n",
       "CaseOrder           10000.0   5000.500000   2886.895680     1.000000   \n",
       "Zip                 10000.0  50159.323900  27469.588208   610.000000   \n",
       "Lat                 10000.0     38.751099      5.403085    17.967190   \n",
       "Lng                 10000.0    -91.243080     15.205998  -174.209690   \n",
       "Population          10000.0   9965.253800  14824.758614     0.000000   \n",
       "Children             7412.0      2.098219      2.155427     0.000000   \n",
       "Age                  7586.0     53.295676     20.659182    18.000000   \n",
       "Income               7536.0  40484.438268  28664.861050   154.080000   \n",
       "VitD_levels         10000.0     19.412675      6.723277     9.519012   \n",
       "Doc_visits          10000.0      5.012200      1.045734     1.000000   \n",
       "Full_meals_eaten    10000.0      1.001400      1.008117     0.000000   \n",
       "VitD_supp           10000.0      0.398900      0.628505     0.000000   \n",
       "Overweight           9018.0      0.709137      0.454186     0.000000   \n",
       "Anxiety              9016.0      0.322316      0.467389     0.000000   \n",
       "Initial_days         8944.0     34.432082     26.287050     1.001981   \n",
       "TotalCharge         10000.0   5891.538261   3377.558136  1256.751699   \n",
       "Additional_charges  10000.0  12934.528586   6542.601544  3125.702716   \n",
       "Item1               10000.0      3.518800      1.031966     1.000000   \n",
       "Item2               10000.0      3.506700      1.034825     1.000000   \n",
       "Item3               10000.0      3.511100      1.032755     1.000000   \n",
       "Item4               10000.0      3.515100      1.036282     1.000000   \n",
       "Item5               10000.0      3.496900      1.030192     1.000000   \n",
       "Item6               10000.0      3.522500      1.032376     1.000000   \n",
       "Item7               10000.0      3.494000      1.021405     1.000000   \n",
       "Item8               10000.0      3.509700      1.042312     1.000000   \n",
       "\n",
       "                             25%           50%           75%            max  \n",
       "CaseOrder            2500.750000   5000.500000   7500.250000   10000.000000  \n",
       "Zip                 27592.000000  50207.000000  72411.750000   99929.000000  \n",
       "Lat                    35.255120     39.419355     42.044175      70.560990  \n",
       "Lng                   -97.352982    -88.397230    -80.438050     -65.290170  \n",
       "Population            694.750000   2769.000000  13945.000000  122814.000000  \n",
       "Children                0.000000      1.000000      3.000000      10.000000  \n",
       "Age                    35.000000     53.000000     71.000000      89.000000  \n",
       "Income              19450.792500  33942.280000  54075.235000  207249.130000  \n",
       "VitD_levels            16.513171     18.080560     19.789740      53.019124  \n",
       "Doc_visits              4.000000      5.000000      6.000000       9.000000  \n",
       "Full_meals_eaten        0.000000      1.000000      2.000000       7.000000  \n",
       "VitD_supp               0.000000      0.000000      1.000000       5.000000  \n",
       "Overweight              0.000000      1.000000      1.000000       1.000000  \n",
       "Anxiety                 0.000000      0.000000      1.000000       1.000000  \n",
       "Initial_days            7.911709     34.446941     61.124654      71.981486  \n",
       "TotalCharge          3253.239465   5852.250564   7614.989701   21524.224210  \n",
       "Additional_charges   7986.487642  11573.979365  15626.491033   30566.073130  \n",
       "Item1                   3.000000      4.000000      4.000000       8.000000  \n",
       "Item2                   3.000000      3.000000      4.000000       7.000000  \n",
       "Item3                   3.000000      4.000000      4.000000       8.000000  \n",
       "Item4                   3.000000      4.000000      4.000000       7.000000  \n",
       "Item5                   3.000000      3.000000      4.000000       7.000000  \n",
       "Item6                   3.000000      4.000000      4.000000       7.000000  \n",
       "Item7                   3.000000      3.000000      4.000000       7.000000  \n",
       "Item8                   3.000000      3.000000      4.000000       7.000000  "
      ]
     },
     "execution_count": 4,
     "metadata": {},
     "output_type": "execute_result"
    }
   ],
   "source": [
    "# Describe the data but transpose to get the data in an easier format visually\n",
    "# This identifies any numerical columns\n",
    "df.describe().T"
   ]
  },
  {
   "cell_type": "code",
   "execution_count": 5,
   "id": "387c0dd1-36d8-4a7b-95c4-c67ea1fbe1c3",
   "metadata": {},
   "outputs": [
    {
     "name": "stdout",
     "output_type": "stream",
     "text": [
      "<class 'pandas.core.frame.DataFrame'>\n",
      "Index: 10000 entries, 1 to 10000\n",
      "Data columns (total 52 columns):\n",
      " #   Column              Non-Null Count  Dtype  \n",
      "---  ------              --------------  -----  \n",
      " 0   CaseOrder           10000 non-null  int64  \n",
      " 1   Customer_id         10000 non-null  object \n",
      " 2   Interaction         10000 non-null  object \n",
      " 3   UID                 10000 non-null  object \n",
      " 4   City                10000 non-null  object \n",
      " 5   State               10000 non-null  object \n",
      " 6   County              10000 non-null  object \n",
      " 7   Zip                 10000 non-null  int64  \n",
      " 8   Lat                 10000 non-null  float64\n",
      " 9   Lng                 10000 non-null  float64\n",
      " 10  Population          10000 non-null  int64  \n",
      " 11  Area                10000 non-null  object \n",
      " 12  Timezone            10000 non-null  object \n",
      " 13  Job                 10000 non-null  object \n",
      " 14  Children            7412 non-null   float64\n",
      " 15  Age                 7586 non-null   float64\n",
      " 16  Education           10000 non-null  object \n",
      " 17  Employment          10000 non-null  object \n",
      " 18  Income              7536 non-null   float64\n",
      " 19  Marital             10000 non-null  object \n",
      " 20  Gender              10000 non-null  object \n",
      " 21  ReAdmis             10000 non-null  object \n",
      " 22  VitD_levels         10000 non-null  float64\n",
      " 23  Doc_visits          10000 non-null  int64  \n",
      " 24  Full_meals_eaten    10000 non-null  int64  \n",
      " 25  VitD_supp           10000 non-null  int64  \n",
      " 26  Soft_drink          7533 non-null   object \n",
      " 27  Initial_admin       10000 non-null  object \n",
      " 28  HighBlood           10000 non-null  object \n",
      " 29  Stroke              10000 non-null  object \n",
      " 30  Complication_risk   10000 non-null  object \n",
      " 31  Overweight          9018 non-null   float64\n",
      " 32  Arthritis           10000 non-null  object \n",
      " 33  Diabetes            10000 non-null  object \n",
      " 34  Hyperlipidemia      10000 non-null  object \n",
      " 35  BackPain            10000 non-null  object \n",
      " 36  Anxiety             9016 non-null   float64\n",
      " 37  Allergic_rhinitis   10000 non-null  object \n",
      " 38  Reflux_esophagitis  10000 non-null  object \n",
      " 39  Asthma              10000 non-null  object \n",
      " 40  Services            10000 non-null  object \n",
      " 41  Initial_days        8944 non-null   float64\n",
      " 42  TotalCharge         10000 non-null  float64\n",
      " 43  Additional_charges  10000 non-null  float64\n",
      " 44  Item1               10000 non-null  int64  \n",
      " 45  Item2               10000 non-null  int64  \n",
      " 46  Item3               10000 non-null  int64  \n",
      " 47  Item4               10000 non-null  int64  \n",
      " 48  Item5               10000 non-null  int64  \n",
      " 49  Item6               10000 non-null  int64  \n",
      " 50  Item7               10000 non-null  int64  \n",
      " 51  Item8               10000 non-null  int64  \n",
      "dtypes: float64(11), int64(14), object(27)\n",
      "memory usage: 4.0+ MB\n"
     ]
    }
   ],
   "source": [
    "# Get column information on all 52 columns and check for non-nulls \n",
    "# against number of entries\n",
    "df.info()"
   ]
  },
  {
   "cell_type": "code",
   "execution_count": 7,
   "id": "95fbfb4b-9596-465c-a236-e5a9c434d831",
   "metadata": {},
   "outputs": [
    {
     "data": {
      "text/plain": [
       "1        False\n",
       "2        False\n",
       "3        False\n",
       "4        False\n",
       "5        False\n",
       "         ...  \n",
       "9996     False\n",
       "9997     False\n",
       "9998     False\n",
       "9999     False\n",
       "10000    False\n",
       "Length: 10000, dtype: bool"
      ]
     },
     "execution_count": 7,
     "metadata": {},
     "output_type": "execute_result"
    }
   ],
   "source": [
    "# Use df.duplicated() to return a Series checking for duplicate rows\n",
    "df.duplicated()"
   ]
  },
  {
   "cell_type": "code",
   "execution_count": 8,
   "id": "b114d3a0-0289-4f01-8d5c-b3e6565fa286",
   "metadata": {},
   "outputs": [
    {
     "data": {
      "text/plain": [
       "False    10000\n",
       "Name: count, dtype: int64"
      ]
     },
     "execution_count": 8,
     "metadata": {},
     "output_type": "execute_result"
    }
   ],
   "source": [
    "# Use df.duplicated().value_counts() to count the sum of duplicated rows\n",
    "df.duplicated().value_counts()"
   ]
  },
  {
   "cell_type": "code",
   "execution_count": 9,
   "id": "bc142017-11fb-44d7-a979-90fb77601a25",
   "metadata": {},
   "outputs": [
    {
     "data": {
      "text/plain": [
       "(10000, 52)"
      ]
     },
     "execution_count": 9,
     "metadata": {},
     "output_type": "execute_result"
    }
   ],
   "source": [
    "# Drop any duplicate rows (for experimental check only)\n",
    "# Store in a new DataFrame as not to make any changes to the primary DataFrame: df\n",
    "df_unique = df.drop_duplicates()\n",
    "df_unique.shape"
   ]
  },
  {
   "cell_type": "code",
   "execution_count": 10,
   "id": "0676050f-3fc1-4938-a05f-0bed0cd3e3f9",
   "metadata": {},
   "outputs": [
    {
     "data": {
      "text/plain": [
       "False    10000\n",
       "Name: count, dtype: int64"
      ]
     },
     "execution_count": 10,
     "metadata": {},
     "output_type": "execute_result"
    }
   ],
   "source": [
    "# Check that no duplicates remain\n",
    "df_unique.duplicated().value_counts()"
   ]
  },
  {
   "cell_type": "markdown",
   "id": "dbce5761-e1af-4493-b3d1-f6659ce85bae",
   "metadata": {},
   "source": [
    "### Initial Findings\n",
    "\n",
    "No duplicate rows were found. All 10,000 rows are unique enough to be retained."
   ]
  },
  {
   "cell_type": "markdown",
   "id": "7dc2bcf9-4728-4aa8-add6-970a75df44be",
   "metadata": {},
   "source": [
    "# C4: Data Cleaning Code (Detection)\n",
    "\n",
    "The code in this section is simply designed to identify any data cleanliness issues rather than perform any cleaning or wrangling steps at this time."
   ]
  },
  {
   "cell_type": "code",
   "execution_count": null,
   "id": "3036448f-09bd-4f87-84c8-a0dab99df35e",
   "metadata": {},
   "outputs": [],
   "source": [
    "# If we were to drop all rows with ANY NA values, there would only be 2,313 rows with all values out of 10,000\n",
    "no_missing_data = df.dropna()\n",
    "no_missing_data.info()"
   ]
  },
  {
   "cell_type": "code",
   "execution_count": null,
   "id": "0ea598b2-8e5a-482e-89b4-227c1b1edf62",
   "metadata": {},
   "outputs": [],
   "source": [
    "# Sample the remaining data\n",
    "no_missing_data.sample(10)"
   ]
  },
  {
   "cell_type": "markdown",
   "id": "32567ee0-0870-44da-9019-d43889e65019",
   "metadata": {},
   "source": [
    "### Initial Findings\n",
    "\n",
    "If we were to drop all rows with _any_ NA values, there would only be 2,313 rows with all values remaining out of the original 10,000 rows. This reduction in data is too severe to consider this as a cleaning method for this dataset."
   ]
  },
  {
   "cell_type": "markdown",
   "id": "fa82128d-8ec5-4e90-b1fc-d0eddccd5239",
   "metadata": {},
   "source": [
    "## Check for number of unique values across all 52 variables"
   ]
  },
  {
   "cell_type": "code",
   "execution_count": 11,
   "id": "537240f1-bc55-4c80-9c7c-b2305152ab58",
   "metadata": {},
   "outputs": [
    {
     "data": {
      "text/plain": [
       "CaseOrder             10000\n",
       "Customer_id           10000\n",
       "Interaction           10000\n",
       "UID                   10000\n",
       "City                   6072\n",
       "State                    52\n",
       "County                 1607\n",
       "Zip                    8612\n",
       "Lat                    8588\n",
       "Lng                    8601\n",
       "Population             5951\n",
       "Area                      3\n",
       "Timezone                 26\n",
       "Job                     639\n",
       "Children                 11\n",
       "Age                      72\n",
       "Education                12\n",
       "Employment                5\n",
       "Income                 7531\n",
       "Marital                   5\n",
       "Gender                    3\n",
       "ReAdmis                   2\n",
       "VitD_levels           10000\n",
       "Doc_visits                9\n",
       "Full_meals_eaten          8\n",
       "VitD_supp                 6\n",
       "Soft_drink                2\n",
       "Initial_admin             3\n",
       "HighBlood                 2\n",
       "Stroke                    2\n",
       "Complication_risk         3\n",
       "Overweight                2\n",
       "Arthritis                 2\n",
       "Diabetes                  2\n",
       "Hyperlipidemia            2\n",
       "BackPain                  2\n",
       "Anxiety                   2\n",
       "Allergic_rhinitis         2\n",
       "Reflux_esophagitis        2\n",
       "Asthma                    2\n",
       "Services                  4\n",
       "Initial_days           8944\n",
       "TotalCharge           10000\n",
       "Additional_charges     8888\n",
       "Item1                     8\n",
       "Item2                     7\n",
       "Item3                     8\n",
       "Item4                     7\n",
       "Item5                     7\n",
       "Item6                     7\n",
       "Item7                     7\n",
       "Item8                     7\n",
       "dtype: int64"
      ]
     },
     "execution_count": 11,
     "metadata": {},
     "output_type": "execute_result"
    }
   ],
   "source": [
    "# Run .nunique() against the DataFrame to return the number of unique variables\n",
    "# found in each column (McCoy 2024)\n",
    "df.nunique()"
   ]
  },
  {
   "cell_type": "markdown",
   "id": "e8b76300-f359-4ef6-ab2d-233fad80e38b",
   "metadata": {},
   "source": [
    "Any column with 52 or fewer unique values in this dataset will likely be a categorical variable. The exception to this statement is the \n",
    "'Children' column, which is a discrete numerical variable."
   ]
  },
  {
   "cell_type": "code",
   "execution_count": 12,
   "id": "af44635f-cb1a-4682-bf88-b262be1a94b4",
   "metadata": {},
   "outputs": [
    {
     "data": {
      "text/html": [
       "<div>\n",
       "<style scoped>\n",
       "    .dataframe tbody tr th:only-of-type {\n",
       "        vertical-align: middle;\n",
       "    }\n",
       "\n",
       "    .dataframe tbody tr th {\n",
       "        vertical-align: top;\n",
       "    }\n",
       "\n",
       "    .dataframe thead th {\n",
       "        text-align: right;\n",
       "    }\n",
       "</style>\n",
       "<table border=\"1\" class=\"dataframe\">\n",
       "  <thead>\n",
       "    <tr style=\"text-align: right;\">\n",
       "      <th></th>\n",
       "      <th>CaseOrder</th>\n",
       "      <th>Customer_id</th>\n",
       "      <th>Interaction</th>\n",
       "      <th>UID</th>\n",
       "    </tr>\n",
       "  </thead>\n",
       "  <tbody>\n",
       "    <tr>\n",
       "      <th>1</th>\n",
       "      <td>1</td>\n",
       "      <td>C412403</td>\n",
       "      <td>8cd49b13-f45a-4b47-a2bd-173ffa932c2f</td>\n",
       "      <td>3a83ddb66e2ae73798bdf1d705dc0932</td>\n",
       "    </tr>\n",
       "    <tr>\n",
       "      <th>2</th>\n",
       "      <td>2</td>\n",
       "      <td>Z919181</td>\n",
       "      <td>d2450b70-0337-4406-bdbb-bc1037f1734c</td>\n",
       "      <td>176354c5eef714957d486009feabf195</td>\n",
       "    </tr>\n",
       "    <tr>\n",
       "      <th>3</th>\n",
       "      <td>3</td>\n",
       "      <td>F995323</td>\n",
       "      <td>a2057123-abf5-4a2c-abad-8ffe33512562</td>\n",
       "      <td>e19a0fa00aeda885b8a436757e889bc9</td>\n",
       "    </tr>\n",
       "    <tr>\n",
       "      <th>4</th>\n",
       "      <td>4</td>\n",
       "      <td>A879973</td>\n",
       "      <td>1dec528d-eb34-4079-adce-0d7a40e82205</td>\n",
       "      <td>cd17d7b6d152cb6f23957346d11c3f07</td>\n",
       "    </tr>\n",
       "    <tr>\n",
       "      <th>5</th>\n",
       "      <td>5</td>\n",
       "      <td>C544523</td>\n",
       "      <td>5885f56b-d6da-43a3-8760-83583af94266</td>\n",
       "      <td>d2f0425877b10ed6bb381f3e2579424a</td>\n",
       "    </tr>\n",
       "    <tr>\n",
       "      <th>...</th>\n",
       "      <td>...</td>\n",
       "      <td>...</td>\n",
       "      <td>...</td>\n",
       "      <td>...</td>\n",
       "    </tr>\n",
       "    <tr>\n",
       "      <th>9996</th>\n",
       "      <td>9996</td>\n",
       "      <td>B863060</td>\n",
       "      <td>a25b594d-0328-486f-a9b9-0567eb0f9723</td>\n",
       "      <td>39184dc28cc038871912ccc4500049e5</td>\n",
       "    </tr>\n",
       "    <tr>\n",
       "      <th>9997</th>\n",
       "      <td>9997</td>\n",
       "      <td>P712040</td>\n",
       "      <td>70711574-f7b1-4a17-b15f-48c54564b70f</td>\n",
       "      <td>3cd124ccd43147404292e883bf9ec55c</td>\n",
       "    </tr>\n",
       "    <tr>\n",
       "      <th>9998</th>\n",
       "      <td>9998</td>\n",
       "      <td>R778890</td>\n",
       "      <td>1d79569d-8e0f-4180-a207-d67ee4527d26</td>\n",
       "      <td>41b770aeee97a5b9e7f69c906a8119d7</td>\n",
       "    </tr>\n",
       "    <tr>\n",
       "      <th>9999</th>\n",
       "      <td>9999</td>\n",
       "      <td>E344109</td>\n",
       "      <td>f5a68e69-2a60-409b-a92f-ac0847b27db0</td>\n",
       "      <td>2bb491ef5b1beb1fed758cc6885c167a</td>\n",
       "    </tr>\n",
       "    <tr>\n",
       "      <th>10000</th>\n",
       "      <td>10000</td>\n",
       "      <td>I569847</td>\n",
       "      <td>bc482c02-f8c9-4423-99de-3db5e62a18d5</td>\n",
       "      <td>95663a202338000abdf7e09311c2a8a1</td>\n",
       "    </tr>\n",
       "  </tbody>\n",
       "</table>\n",
       "<p>10000 rows × 4 columns</p>\n",
       "</div>"
      ],
      "text/plain": [
       "       CaseOrder Customer_id                           Interaction  \\\n",
       "1              1     C412403  8cd49b13-f45a-4b47-a2bd-173ffa932c2f   \n",
       "2              2     Z919181  d2450b70-0337-4406-bdbb-bc1037f1734c   \n",
       "3              3     F995323  a2057123-abf5-4a2c-abad-8ffe33512562   \n",
       "4              4     A879973  1dec528d-eb34-4079-adce-0d7a40e82205   \n",
       "5              5     C544523  5885f56b-d6da-43a3-8760-83583af94266   \n",
       "...          ...         ...                                   ...   \n",
       "9996        9996     B863060  a25b594d-0328-486f-a9b9-0567eb0f9723   \n",
       "9997        9997     P712040  70711574-f7b1-4a17-b15f-48c54564b70f   \n",
       "9998        9998     R778890  1d79569d-8e0f-4180-a207-d67ee4527d26   \n",
       "9999        9999     E344109  f5a68e69-2a60-409b-a92f-ac0847b27db0   \n",
       "10000      10000     I569847  bc482c02-f8c9-4423-99de-3db5e62a18d5   \n",
       "\n",
       "                                    UID  \n",
       "1      3a83ddb66e2ae73798bdf1d705dc0932  \n",
       "2      176354c5eef714957d486009feabf195  \n",
       "3      e19a0fa00aeda885b8a436757e889bc9  \n",
       "4      cd17d7b6d152cb6f23957346d11c3f07  \n",
       "5      d2f0425877b10ed6bb381f3e2579424a  \n",
       "...                                 ...  \n",
       "9996   39184dc28cc038871912ccc4500049e5  \n",
       "9997   3cd124ccd43147404292e883bf9ec55c  \n",
       "9998   41b770aeee97a5b9e7f69c906a8119d7  \n",
       "9999   2bb491ef5b1beb1fed758cc6885c167a  \n",
       "10000  95663a202338000abdf7e09311c2a8a1  \n",
       "\n",
       "[10000 rows x 4 columns]"
      ]
     },
     "execution_count": 12,
     "metadata": {},
     "output_type": "execute_result"
    }
   ],
   "source": [
    "# Create a mask of the unique identifiers for patient data\n",
    "unique_identifiers = df[['CaseOrder', 'Customer_id', 'Interaction', 'UID']]\n",
    "unique_identifiers"
   ]
  },
  {
   "cell_type": "markdown",
   "id": "ce2c1131-7e8b-4546-afc8-039aab68eddc",
   "metadata": {},
   "source": [
    "## Explore each of the remaining 48 variables (unique patient identifiers excluded)"
   ]
  },
  {
   "cell_type": "markdown",
   "id": "dc4b116c-6a45-4641-b541-6e8e237f6c15",
   "metadata": {},
   "source": [
    "### City"
   ]
  },
  {
   "cell_type": "code",
   "execution_count": null,
   "id": "7e3a3c66-8543-4547-a862-7091af75825a",
   "metadata": {},
   "outputs": [],
   "source": [
    "# Run .nunique() against the column to return the number of unique variables\n",
    "df['City'].nunique()"
   ]
  },
  {
   "cell_type": "code",
   "execution_count": null,
   "id": "d789cc9d-2460-4f1d-87b9-94de605b1d34",
   "metadata": {},
   "outputs": [],
   "source": [
    "# Run .value_counts() against the column to get the frequency of each distinct value in descending order\n",
    "df['City'].value_counts()"
   ]
  },
  {
   "cell_type": "markdown",
   "id": "2f3a9e05-05fb-4743-9d4b-e6c008fcaa60",
   "metadata": {},
   "source": [
    "### State"
   ]
  },
  {
   "cell_type": "code",
   "execution_count": null,
   "id": "4b006298-a572-4c2d-9b82-e14e5a42274c",
   "metadata": {},
   "outputs": [],
   "source": [
    "# Run .nunique() against the column to return the number of unique variables\n",
    "df['State'].nunique()"
   ]
  },
  {
   "cell_type": "code",
   "execution_count": null,
   "id": "979c71ba-76ae-47c5-94c3-559ed86eb280",
   "metadata": {},
   "outputs": [],
   "source": [
    "# Run .value_counts() against the column to get the frequency of each distinct value in descending order\n",
    "df['State'].value_counts()"
   ]
  },
  {
   "cell_type": "code",
   "execution_count": null,
   "id": "d7cced95-ec0b-4774-a8e3-cb687672f081",
   "metadata": {},
   "outputs": [],
   "source": [
    "# Run .describe() against the column to get summary statistics on numeric and object types\n",
    "df['State'].describe()"
   ]
  },
  {
   "cell_type": "markdown",
   "id": "7c7370e7-41ce-47bd-b06c-89afbfa63e6d",
   "metadata": {},
   "source": [
    "### County"
   ]
  },
  {
   "cell_type": "code",
   "execution_count": null,
   "id": "4d2d314e-70b6-4177-bc49-44ac44d129fd",
   "metadata": {},
   "outputs": [],
   "source": [
    "# Run .nunique() against the column to return the number of unique variables\n",
    "df['County'].nunique()"
   ]
  },
  {
   "cell_type": "code",
   "execution_count": null,
   "id": "4e95d184-009c-4faa-a12f-cd0cd5f3502e",
   "metadata": {},
   "outputs": [],
   "source": [
    "# Run .value_counts() against the column to get the frequency of each distinct value in descending order\n",
    "df['County'].value_counts()"
   ]
  },
  {
   "cell_type": "code",
   "execution_count": null,
   "id": "09f49c04-06a2-47e5-bea5-2c64ea836aad",
   "metadata": {},
   "outputs": [],
   "source": [
    "# Run .describe() against the column to get summary statistics on numeric and object types\n",
    "df['County'].describe()"
   ]
  },
  {
   "cell_type": "markdown",
   "id": "081fe075-0c85-48fe-bbb9-5246f14999f2",
   "metadata": {},
   "source": [
    "### Zip"
   ]
  },
  {
   "cell_type": "code",
   "execution_count": null,
   "id": "48bf2845-d408-4546-8ff8-93091f835b2d",
   "metadata": {},
   "outputs": [],
   "source": [
    "# Run .nunique() against the column to return the number of unique variables\n",
    "df['Zip'].nunique()"
   ]
  },
  {
   "cell_type": "code",
   "execution_count": null,
   "id": "6931e38a-6d63-4e18-aa43-193f1dab6824",
   "metadata": {},
   "outputs": [],
   "source": [
    "# Run .value_counts() against the column to get the frequency of each distinct value\n",
    "df['Zip'].value_counts()"
   ]
  },
  {
   "cell_type": "code",
   "execution_count": null,
   "id": "ad1b05a6-3381-49a9-97c9-970823967c63",
   "metadata": {},
   "outputs": [],
   "source": [
    "# Run .describe() against the column to get summary statistics on numeric and object types\n",
    "df['Zip'].describe()"
   ]
  },
  {
   "cell_type": "markdown",
   "id": "6f212dda-1aa6-4ea5-9fe5-fe1c9aabe5db",
   "metadata": {},
   "source": [
    "### Lat"
   ]
  },
  {
   "cell_type": "code",
   "execution_count": null,
   "id": "5e805456-2ade-4888-bc5e-6dcfaacd8588",
   "metadata": {},
   "outputs": [],
   "source": [
    "# Run .nunique() against the column to return the number of unique variables\n",
    "df['Lat'].nunique()"
   ]
  },
  {
   "cell_type": "code",
   "execution_count": null,
   "id": "a34cb7e7-8f91-4ec5-be83-683dedbcb166",
   "metadata": {},
   "outputs": [],
   "source": [
    "# Run .value_counts() against the column to get the frequency of each distinct value in descending order\n",
    "df['Lat'].value_counts()"
   ]
  },
  {
   "cell_type": "markdown",
   "id": "f07234a1-e6d3-4949-a9b7-9fcf84dc6222",
   "metadata": {},
   "source": [
    "### Lng"
   ]
  },
  {
   "cell_type": "code",
   "execution_count": null,
   "id": "c0218bc4-b23b-42c7-99a2-965a46a81c23",
   "metadata": {},
   "outputs": [],
   "source": [
    "# Run .nunique() against the column to return the number of unique variables\n",
    "df['Lng'].nunique()"
   ]
  },
  {
   "cell_type": "code",
   "execution_count": null,
   "id": "f5f8d4ed-09e1-47bd-9621-3175598f038f",
   "metadata": {},
   "outputs": [],
   "source": [
    "# Run .value_counts() against the column to get the frequency of each distinct value in descending order\n",
    "df['Lng'].value_counts()"
   ]
  },
  {
   "cell_type": "markdown",
   "id": "3246123b-6868-43f3-957a-6bb109632097",
   "metadata": {},
   "source": [
    "### Population"
   ]
  },
  {
   "cell_type": "code",
   "execution_count": null,
   "id": "459d72df-7fab-4c8c-938b-2830235c907b",
   "metadata": {},
   "outputs": [],
   "source": [
    "# Run .nunique() against the column to return the number of unique variables\n",
    "df['Population'].nunique()"
   ]
  },
  {
   "cell_type": "code",
   "execution_count": null,
   "id": "faebc2cb-75ef-4306-b9f2-520f732e826b",
   "metadata": {},
   "outputs": [],
   "source": [
    "# Run .value_counts() against the column to get the frequency of each distinct value in descending order\n",
    "df['Population'].value_counts()"
   ]
  },
  {
   "cell_type": "code",
   "execution_count": null,
   "id": "4c992ad6-d32e-420c-ba39-efd691fc0100",
   "metadata": {},
   "outputs": [],
   "source": [
    "# Run .describe() against the column to get summary statistics on numeric and object types\n",
    "df['Population'].describe()"
   ]
  },
  {
   "cell_type": "code",
   "execution_count": null,
   "id": "81d1e939-18c9-4084-a6da-f8328b8db5b0",
   "metadata": {},
   "outputs": [],
   "source": [
    "# Create histogram to view a preliminary spread of the data and distribution\n",
    "plt.hist(df['Population']);\n",
    "# df['Population'].hist()"
   ]
  },
  {
   "cell_type": "code",
   "execution_count": null,
   "id": "fc5d8b8d-31b9-4838-b5b8-d3e8f303548d",
   "metadata": {},
   "outputs": [],
   "source": [
    "# Create boxplot to visualize spread of data plus outliers\n",
    "sns.boxplot(data=df, x='Population')"
   ]
  },
  {
   "cell_type": "markdown",
   "id": "6912a59a-415d-487f-aea6-9455172cf94b",
   "metadata": {},
   "source": [
    "### Area"
   ]
  },
  {
   "cell_type": "code",
   "execution_count": null,
   "id": "00e96d56-cefc-402a-ae05-2c3171cbaafc",
   "metadata": {},
   "outputs": [],
   "source": [
    "# Run .nunique() against the column to return the number of unique variables\n",
    "df['Area'].nunique()"
   ]
  },
  {
   "cell_type": "code",
   "execution_count": null,
   "id": "b808cc60-5ab5-42aa-97a1-5574c6d02255",
   "metadata": {},
   "outputs": [],
   "source": [
    "# Run .value_counts() against the column to get the frequency of each distinct value in descending order\n",
    "df['Area'].value_counts()"
   ]
  },
  {
   "cell_type": "code",
   "execution_count": null,
   "id": "7fdf363f-a0b8-433e-a64f-9fa43921ca2b",
   "metadata": {},
   "outputs": [],
   "source": [
    "# Run .describe() against the column to get summary statistics on numeric and object types\n",
    "df['Area'].describe()"
   ]
  },
  {
   "cell_type": "markdown",
   "id": "020ccf56-470a-4a70-9e22-3761155823da",
   "metadata": {},
   "source": [
    "### Timezone"
   ]
  },
  {
   "cell_type": "code",
   "execution_count": null,
   "id": "84d107cd-4bdd-44ba-994f-ff2a55304963",
   "metadata": {},
   "outputs": [],
   "source": [
    "# Run .nunique() against the column to return the number of unique variables\n",
    "df['Timezone'].nunique()"
   ]
  },
  {
   "cell_type": "code",
   "execution_count": null,
   "id": "a5df1493-0906-4275-afe8-0235fb7cc236",
   "metadata": {},
   "outputs": [],
   "source": [
    "# Run .value_counts() against the column to get the frequency of each distinct value in descending order\n",
    "df['Timezone'].value_counts()"
   ]
  },
  {
   "cell_type": "code",
   "execution_count": null,
   "id": "2cce49f5-46b2-40cf-8713-2a91e5d9d2d1",
   "metadata": {},
   "outputs": [],
   "source": [
    "# Run .describe() against the column to get summary statistics on numeric and object types\n",
    "df['Timezone'].describe()"
   ]
  },
  {
   "cell_type": "markdown",
   "id": "e9cbf239-3813-4c8d-a8e9-e0d153f2d6d0",
   "metadata": {},
   "source": [
    "### Job"
   ]
  },
  {
   "cell_type": "code",
   "execution_count": null,
   "id": "dc982a1b-ddae-4109-bdbb-d6f1e4398780",
   "metadata": {},
   "outputs": [],
   "source": [
    "# Run .nunique() against the column to return the number of unique variables\n",
    "df['Job'].nunique()"
   ]
  },
  {
   "cell_type": "code",
   "execution_count": null,
   "id": "64d7b332-fba7-4e36-a9aa-b3b3b883f3c8",
   "metadata": {},
   "outputs": [],
   "source": [
    "# Run .value_counts() against the column to get the frequency of each distinct value in descending order\n",
    "df['Job'].value_counts()"
   ]
  },
  {
   "cell_type": "code",
   "execution_count": null,
   "id": "866b3c6f-6dd4-48b3-a245-59854b403d29",
   "metadata": {},
   "outputs": [],
   "source": [
    "# Run .describe() against the column to get summary statistics on numeric and object types\n",
    "df['Job'].describe()"
   ]
  },
  {
   "cell_type": "markdown",
   "id": "b607997a-8543-4913-a30a-cf2991d5adc7",
   "metadata": {},
   "source": [
    "### Children"
   ]
  },
  {
   "cell_type": "code",
   "execution_count": null,
   "id": "9695b47e-172a-4fa5-9cfb-374241ad0297",
   "metadata": {},
   "outputs": [],
   "source": [
    "# Run .nunique() against the column to return the number of unique variables\n",
    "df['Children'].nunique()"
   ]
  },
  {
   "cell_type": "code",
   "execution_count": null,
   "id": "8bc86901-a7e4-4e8b-a907-2ac697b91d4a",
   "metadata": {},
   "outputs": [],
   "source": [
    "# Run .value_counts() against the column to get the frequency of each distinct value in descending order\n",
    "df['Children'].value_counts()"
   ]
  },
  {
   "cell_type": "code",
   "execution_count": null,
   "id": "21d20955-9c8e-45c0-9295-ac47f1e1997e",
   "metadata": {},
   "outputs": [],
   "source": [
    "# Run .describe() against the column to get summary statistics on numeric and object types\n",
    "df['Children'].describe()"
   ]
  },
  {
   "cell_type": "code",
   "execution_count": null,
   "id": "62c49185-ec2e-4ed6-8a4f-6a8562b11567",
   "metadata": {},
   "outputs": [],
   "source": [
    "# Create histogram to view a preliminary spread of the data and distribution\n",
    "plt.hist(df['Children'], bins=10);"
   ]
  },
  {
   "cell_type": "markdown",
   "id": "f6034bee-cb07-4948-9545-bd1d1a7ae3df",
   "metadata": {},
   "source": [
    "### Age"
   ]
  },
  {
   "cell_type": "code",
   "execution_count": null,
   "id": "270968bc-23b1-4da0-a4bd-d7ef21a0f7d5",
   "metadata": {},
   "outputs": [],
   "source": [
    "# Run .nunique() against the column to return the number of unique variables\n",
    "df['Age'].nunique()"
   ]
  },
  {
   "cell_type": "code",
   "execution_count": null,
   "id": "2d559c5e-9d1f-46c1-869d-5ff72efce454",
   "metadata": {},
   "outputs": [],
   "source": [
    "# Run .value_counts() against the column to get the frequency of each distinct value in descending order\n",
    "df['Age'].value_counts()"
   ]
  },
  {
   "cell_type": "code",
   "execution_count": null,
   "id": "0957f4aa-2dfb-42b3-8245-7c6ded899178",
   "metadata": {},
   "outputs": [],
   "source": [
    "# Run .describe() against the column to get summary statistics on numeric and object types\n",
    "df['Age'].describe()"
   ]
  },
  {
   "cell_type": "code",
   "execution_count": null,
   "id": "2373bd3a-7e84-4510-a4b4-80bf2cc8d082",
   "metadata": {},
   "outputs": [],
   "source": [
    "# Create histogram to view a preliminary spread of the data and distribution\n",
    "plt.hist(df['Age']);"
   ]
  },
  {
   "cell_type": "markdown",
   "id": "832fad24-80e2-4f55-bd96-f49d508d90bc",
   "metadata": {},
   "source": [
    "### Education"
   ]
  },
  {
   "cell_type": "code",
   "execution_count": null,
   "id": "d1bde6ba-43df-4b16-b82f-b1b81284380b",
   "metadata": {},
   "outputs": [],
   "source": [
    "# Run .nunique() against the column to return the number of unique variables\n",
    "df['Education'].nunique()"
   ]
  },
  {
   "cell_type": "code",
   "execution_count": null,
   "id": "e14e9cb7-7c16-4a3e-bd9c-90654cf56359",
   "metadata": {},
   "outputs": [],
   "source": [
    "# Run .value_counts() against the column to get the frequency of each distinct value in descending order\n",
    "df['Education'].value_counts()"
   ]
  },
  {
   "cell_type": "code",
   "execution_count": null,
   "id": "601a10cb-4e25-483e-88de-3f21d5dd7618",
   "metadata": {},
   "outputs": [],
   "source": [
    "# Run .describe() against the column to get summary statistics on numeric and object types\n",
    "df['Education'].describe()"
   ]
  },
  {
   "cell_type": "markdown",
   "id": "1030faf5-7f73-40dd-8a75-01d84965a7eb",
   "metadata": {},
   "source": [
    "### Employment"
   ]
  },
  {
   "cell_type": "code",
   "execution_count": null,
   "id": "cc4a2112-d90d-4912-8a26-1542337dab8d",
   "metadata": {},
   "outputs": [],
   "source": [
    "# Run .nunique() against the column to return the number of unique variables\n",
    "df['Employment'].nunique()"
   ]
  },
  {
   "cell_type": "code",
   "execution_count": null,
   "id": "6e4c6485-c80a-476a-9f94-2e2d20b42947",
   "metadata": {},
   "outputs": [],
   "source": [
    "# Run .value_counts() against the column to get the frequency of each distinct value in descending order\n",
    "df['Employment'].value_counts()"
   ]
  },
  {
   "cell_type": "code",
   "execution_count": null,
   "id": "bb409fc6-5415-487f-a9ef-d558cb87ce64",
   "metadata": {},
   "outputs": [],
   "source": [
    "# Run .describe() against the column to get summary statistics on numeric and object types\n",
    "df['Employment'].describe()"
   ]
  },
  {
   "cell_type": "code",
   "execution_count": null,
   "id": "9d6d7715-2196-4d72-8aaf-46c8fc3dcabe",
   "metadata": {},
   "outputs": [],
   "source": [
    "# Create histogram to view a preliminary spread of the data and distribution\n",
    "plt.hist(df['Employment'], align='mid');"
   ]
  },
  {
   "cell_type": "markdown",
   "id": "ea0646a8-cdb5-42eb-8edc-6557934159eb",
   "metadata": {},
   "source": [
    "### Income"
   ]
  },
  {
   "cell_type": "code",
   "execution_count": null,
   "id": "8a97e07e-48ff-4824-a1ba-888297c3aba5",
   "metadata": {},
   "outputs": [],
   "source": [
    "# Run .nunique() against the column to return the number of unique variables\n",
    "df['Income'].nunique()"
   ]
  },
  {
   "cell_type": "code",
   "execution_count": null,
   "id": "58d4e8cf-8be1-466d-baf4-5268954553ea",
   "metadata": {},
   "outputs": [],
   "source": [
    "# Run .value_counts() against the column to get the frequency of each distinct value in descending order\n",
    "df['Income'].value_counts()"
   ]
  },
  {
   "cell_type": "code",
   "execution_count": null,
   "id": "deacb4af-e5ae-48a7-8918-bd99d8a94dbb",
   "metadata": {},
   "outputs": [],
   "source": [
    "# Run .describe() against the column to get summary statistics on numeric and object types\n",
    "df['Income'].describe()"
   ]
  },
  {
   "cell_type": "code",
   "execution_count": null,
   "id": "5c0bec5e-e467-4a4a-a44a-45f5e129d0fd",
   "metadata": {},
   "outputs": [],
   "source": [
    "# Create histogram to view a preliminary spread of the data and distribution\n",
    "plt.hist(df['Income']);"
   ]
  },
  {
   "cell_type": "markdown",
   "id": "5d62683d-99cd-44ca-89cc-6b6bdcb1efba",
   "metadata": {},
   "source": [
    "### Marital"
   ]
  },
  {
   "cell_type": "code",
   "execution_count": null,
   "id": "e2d5e44b-080b-4f94-adaf-22d5e2e80042",
   "metadata": {},
   "outputs": [],
   "source": [
    "# Run .nunique() against the column to return the number of unique variables\n",
    "df['Marital'].nunique()"
   ]
  },
  {
   "cell_type": "code",
   "execution_count": null,
   "id": "3f072678-d7b3-4380-90ed-2d22da1a70cb",
   "metadata": {},
   "outputs": [],
   "source": [
    "# Run .value_counts() against the column to get the frequency of each distinct value in descending order\n",
    "df['Marital'].value_counts()"
   ]
  },
  {
   "cell_type": "code",
   "execution_count": null,
   "id": "7bd253f2-e536-4c49-b720-56676c36eac5",
   "metadata": {},
   "outputs": [],
   "source": [
    "# Run .describe() against the column to get summary statistics on numeric and object types\n",
    "df['Marital'].describe()"
   ]
  },
  {
   "cell_type": "code",
   "execution_count": null,
   "id": "1a8a5d75-5c0f-4ec7-a482-f19108764527",
   "metadata": {},
   "outputs": [],
   "source": [
    "# Create histogram to view a preliminary spread of the data and distribution\n",
    "plt.hist(df['Marital']);"
   ]
  },
  {
   "cell_type": "markdown",
   "id": "5fa54a4d-68bf-4eca-8815-f66839ed1ce4",
   "metadata": {},
   "source": [
    "### Gender"
   ]
  },
  {
   "cell_type": "code",
   "execution_count": null,
   "id": "0c57b2dd-36a6-4ea0-8672-0844b30789c3",
   "metadata": {},
   "outputs": [],
   "source": [
    "# Run .nunique() against the column to return the number of unique variables\n",
    "df['Gender'].nunique()"
   ]
  },
  {
   "cell_type": "code",
   "execution_count": null,
   "id": "35e2cbe0-daf9-4479-b8e3-c989195ec809",
   "metadata": {},
   "outputs": [],
   "source": [
    "# Run .value_counts() against the column to get the frequency of each distinct value in descending order\n",
    "df['Gender'].value_counts()"
   ]
  },
  {
   "cell_type": "code",
   "execution_count": null,
   "id": "0286ffa4-62e8-47f8-97bb-5417276b6bf0",
   "metadata": {},
   "outputs": [],
   "source": [
    "# Run .describe() against the column to get summary statistics on numeric and object types\n",
    "df['Gender'].describe()"
   ]
  },
  {
   "cell_type": "code",
   "execution_count": null,
   "id": "c3dbcd49-8427-4b41-8615-f9b7cf9be2c8",
   "metadata": {},
   "outputs": [],
   "source": [
    "# Create histogram to view a preliminary spread of the data and distribution\n",
    "df['Gender'].hist()"
   ]
  },
  {
   "cell_type": "markdown",
   "id": "66a88526-b8f6-4f88-9699-9fed6036760d",
   "metadata": {},
   "source": [
    "### ReAdmis"
   ]
  },
  {
   "cell_type": "code",
   "execution_count": null,
   "id": "076ab2cb-7d91-405c-aa88-4d30a62e10f4",
   "metadata": {},
   "outputs": [],
   "source": [
    "# Run .nunique() against the column to return the number of unique variables\n",
    "df['ReAdmis'].nunique()"
   ]
  },
  {
   "cell_type": "code",
   "execution_count": null,
   "id": "e8c18841-e8b0-414e-961f-3bdbdc6a9cd3",
   "metadata": {},
   "outputs": [],
   "source": [
    "# Run .value_counts() against the column to get the frequency of each distinct value in descending order\n",
    "df['ReAdmis'].value_counts()"
   ]
  },
  {
   "cell_type": "code",
   "execution_count": null,
   "id": "e24d13b9-043c-4ae7-9d80-58597614df52",
   "metadata": {},
   "outputs": [],
   "source": [
    "# Run .describe() against the column to get summary statistics on numeric and object types\n",
    "df['ReAdmis'].describe()"
   ]
  },
  {
   "cell_type": "markdown",
   "id": "55e425cc-f4a8-4b9b-9b6d-c24b13b43bdf",
   "metadata": {},
   "source": [
    "### VitD_levels"
   ]
  },
  {
   "cell_type": "code",
   "execution_count": null,
   "id": "a3c45469-8309-46f1-a13a-761bbbdb662b",
   "metadata": {},
   "outputs": [],
   "source": [
    "# Run .nunique() against the column to return the number of unique variables\n",
    "df['VitD_levels'].nunique()"
   ]
  },
  {
   "cell_type": "code",
   "execution_count": null,
   "id": "a6adea90-2451-4a84-805b-af5d2bf13368",
   "metadata": {},
   "outputs": [],
   "source": [
    "# Run .value_counts() against the column to get the frequency of each distinct value in descending order\n",
    "df['VitD_levels'].value_counts()"
   ]
  },
  {
   "cell_type": "code",
   "execution_count": null,
   "id": "90878e6e-1fb3-451e-80bd-9ec338c54a6e",
   "metadata": {},
   "outputs": [],
   "source": [
    "# Run .describe() against the column to get summary statistics on numeric and object types\n",
    "df['VitD_levels'].describe()"
   ]
  },
  {
   "cell_type": "code",
   "execution_count": null,
   "id": "169b3418-2919-4a20-ba0c-662f8f7e1de5",
   "metadata": {},
   "outputs": [],
   "source": [
    "# Create histogram to view a preliminary spread of the data and distribution\n",
    "df['VitD_levels'].hist()"
   ]
  },
  {
   "cell_type": "markdown",
   "id": "527e803c-1a54-43f6-a262-caeac39fdf07",
   "metadata": {},
   "source": [
    "### Doc_visits"
   ]
  },
  {
   "cell_type": "code",
   "execution_count": null,
   "id": "a89efd0d-9663-4808-a34e-7da563e38ab8",
   "metadata": {},
   "outputs": [],
   "source": [
    "# Run .nunique() against the column to return the number of unique variables\n",
    "df['Doc_visits'].nunique()"
   ]
  },
  {
   "cell_type": "code",
   "execution_count": null,
   "id": "ac9c1877-d799-4efa-958b-688b49fe3ff8",
   "metadata": {},
   "outputs": [],
   "source": [
    "# Run .value_counts() against the column to get the frequency of each distinct value in descending order\n",
    "df['Doc_visits'].value_counts()"
   ]
  },
  {
   "cell_type": "code",
   "execution_count": null,
   "id": "1b155dfc-dcfb-4554-8e85-a8d659e5a3aa",
   "metadata": {},
   "outputs": [],
   "source": [
    "# Run .describe() against the column to get summary statistics on numeric and object types\n",
    "df['Doc_visits'].describe()"
   ]
  },
  {
   "cell_type": "code",
   "execution_count": null,
   "id": "2379d030-3ce0-4158-8d19-381adce89963",
   "metadata": {},
   "outputs": [],
   "source": [
    "# Create histogram to view a preliminary spread of the data and distribution\n",
    "df['Doc_visits'].hist()"
   ]
  },
  {
   "cell_type": "markdown",
   "id": "5d921cac-8a70-4370-9504-bf047ac3f58b",
   "metadata": {},
   "source": [
    "### Full_meals_eaten"
   ]
  },
  {
   "cell_type": "code",
   "execution_count": null,
   "id": "731c4cdc-e8d7-4646-b1cf-2fb105e216f8",
   "metadata": {},
   "outputs": [],
   "source": [
    "# Run .nunique() against the column to return the number of unique variables\n",
    "df['Full_meals_eaten'].nunique()"
   ]
  },
  {
   "cell_type": "code",
   "execution_count": null,
   "id": "4de54a5b-738a-416b-b99e-7310816f332f",
   "metadata": {},
   "outputs": [],
   "source": [
    "# Run .value_counts() against the column to get the frequency of each distinct value in descending order\n",
    "df['Full_meals_eaten'].value_counts()"
   ]
  },
  {
   "cell_type": "code",
   "execution_count": null,
   "id": "4eff616b-0e32-4e78-a673-daef7cbe27e7",
   "metadata": {},
   "outputs": [],
   "source": [
    "# Run .describe() against the column to get summary statistics on numeric and object types\n",
    "df['Full_meals_eaten'].describe()"
   ]
  },
  {
   "cell_type": "code",
   "execution_count": null,
   "id": "5b86976b-933f-465c-8ca4-17091972150e",
   "metadata": {},
   "outputs": [],
   "source": [
    "# Create histogram to view a preliminary spread of the data and distribution\n",
    "df['Full_meals_eaten'].hist()"
   ]
  },
  {
   "cell_type": "markdown",
   "id": "907eb22a-3587-4c56-9fec-28242e1feaea",
   "metadata": {},
   "source": [
    "### VitD_supp"
   ]
  },
  {
   "cell_type": "code",
   "execution_count": null,
   "id": "527192d8-c111-483a-a644-7db69fc50cf1",
   "metadata": {},
   "outputs": [],
   "source": [
    "# Run .nunique() against the column to return the number of unique variables\n",
    "df['VitD_supp'].nunique()"
   ]
  },
  {
   "cell_type": "code",
   "execution_count": null,
   "id": "8964db33-872b-4e32-8aba-42847716ef75",
   "metadata": {},
   "outputs": [],
   "source": [
    "# Run .value_counts() against the column to get the frequency of each distinct value in descending order\n",
    "df['VitD_supp'].value_counts()"
   ]
  },
  {
   "cell_type": "code",
   "execution_count": null,
   "id": "8981b528-5626-482e-9a00-826f1c7cf0b9",
   "metadata": {},
   "outputs": [],
   "source": [
    "# Run .describe() against the column to get summary statistics on numeric and object types\n",
    "df['VitD_supp'].describe()"
   ]
  },
  {
   "cell_type": "code",
   "execution_count": null,
   "id": "389ace11-a183-4edd-ad3f-9bc947518af7",
   "metadata": {},
   "outputs": [],
   "source": [
    "# Create histogram to view a preliminary spread of the data and distribution\n",
    "df['VitD_supp'].hist()"
   ]
  },
  {
   "cell_type": "markdown",
   "id": "c203a31b-3bc0-4fc5-83a9-60b235afdb10",
   "metadata": {},
   "source": [
    "### Soft_drink"
   ]
  },
  {
   "cell_type": "code",
   "execution_count": null,
   "id": "6c64bc21-068a-451a-8dec-2faa135b5e61",
   "metadata": {},
   "outputs": [],
   "source": [
    "# Run .nunique() against the column to return the number of unique variables\n",
    "df['Soft_drink'].nunique()"
   ]
  },
  {
   "cell_type": "code",
   "execution_count": null,
   "id": "3e5345d4-bf83-4984-b0ee-1f87051f18d6",
   "metadata": {},
   "outputs": [],
   "source": [
    "# Run .value_counts() against the column to get the frequency of each distinct value in descending order\n",
    "df['Soft_drink'].value_counts()"
   ]
  },
  {
   "cell_type": "code",
   "execution_count": null,
   "id": "747991d0-aa30-4f5d-9a1c-f452ab04ee0f",
   "metadata": {},
   "outputs": [],
   "source": [
    "# Run .describe() against the column to get summary statistics on numeric and object types\n",
    "df['Soft_drink'].describe()"
   ]
  },
  {
   "cell_type": "code",
   "execution_count": null,
   "id": "3046bc3d-fa6d-4675-b427-2c7bb7408978",
   "metadata": {},
   "outputs": [],
   "source": [
    "# Create histogram to view a preliminary spread of the data and distribution\n",
    "df['Soft_drink'].hist()"
   ]
  },
  {
   "cell_type": "markdown",
   "id": "0e614a3c-89b6-4a55-8037-095e49670b38",
   "metadata": {},
   "source": [
    "### Initital_admin"
   ]
  },
  {
   "cell_type": "code",
   "execution_count": null,
   "id": "a24930cc-c791-413a-8468-410ea0f26e07",
   "metadata": {},
   "outputs": [],
   "source": [
    "# Run .nunique() against the column to return the number of unique variables\n",
    "df['Initial_admin'].nunique()"
   ]
  },
  {
   "cell_type": "code",
   "execution_count": null,
   "id": "2edf68b1-fba6-4086-ad4c-079eeb69d0a0",
   "metadata": {},
   "outputs": [],
   "source": [
    "# Run .value_counts() against the column to get the frequency of each distinct value in descending order\n",
    "df['Initial_admin'].value_counts()"
   ]
  },
  {
   "cell_type": "code",
   "execution_count": null,
   "id": "5ae7f5dd-cb5a-4207-9949-7e1bd29a66ef",
   "metadata": {},
   "outputs": [],
   "source": [
    "# Run .describe() against the column to get summary statistics on numeric and object types\n",
    "df['Initial_admin'].describe()"
   ]
  },
  {
   "cell_type": "code",
   "execution_count": null,
   "id": "831e1349-c000-4abe-b04f-e7d1ea9d67d6",
   "metadata": {},
   "outputs": [],
   "source": [
    "# Create histogram to view a preliminary spread of the data and distribution\n",
    "df['Initial_admin'].hist()"
   ]
  },
  {
   "cell_type": "markdown",
   "id": "cc372525-15a2-45f7-823d-d0b259cef124",
   "metadata": {},
   "source": [
    "### HighBlood"
   ]
  },
  {
   "cell_type": "code",
   "execution_count": null,
   "id": "2b71932d-8d63-408b-afbe-733b6cc8bcf8",
   "metadata": {},
   "outputs": [],
   "source": [
    "# Run .nunique() against the column to return the number of unique variables\n",
    "df['HighBlood'].nunique()"
   ]
  },
  {
   "cell_type": "code",
   "execution_count": null,
   "id": "b4191a76-b652-4c0d-a932-4cf5e5ec8c71",
   "metadata": {},
   "outputs": [],
   "source": [
    "# Run .value_counts() against the column to get the frequency of each distinct value in descending order\n",
    "df['HighBlood'].value_counts()"
   ]
  },
  {
   "cell_type": "code",
   "execution_count": null,
   "id": "0430431a-7873-426e-a33c-40c35076b691",
   "metadata": {},
   "outputs": [],
   "source": [
    "# Run .describe() against the column to get summary statistics on numeric and object types\n",
    "df['HighBlood'].describe()"
   ]
  },
  {
   "cell_type": "code",
   "execution_count": null,
   "id": "7f37e745-9461-4172-b39c-1d7feb1a76fd",
   "metadata": {},
   "outputs": [],
   "source": [
    "# Create histogram to view a preliminary spread of the data and distribution\n",
    "df['HighBlood'].hist()"
   ]
  },
  {
   "cell_type": "markdown",
   "id": "c12f3f6c-68e4-4ef9-9740-0016517cceb7",
   "metadata": {},
   "source": [
    "### Stroke"
   ]
  },
  {
   "cell_type": "code",
   "execution_count": null,
   "id": "9b2159d9-411c-467f-856e-8b26db896b22",
   "metadata": {},
   "outputs": [],
   "source": [
    "# Run .nunique() against the column to return the number of unique variables\n",
    "df['Stroke'].nunique()"
   ]
  },
  {
   "cell_type": "code",
   "execution_count": null,
   "id": "73e7e1b1-cb80-4094-955a-90f955ab10c4",
   "metadata": {},
   "outputs": [],
   "source": [
    "# Run .value_counts() against the column to get the frequency of each distinct value in descending order\n",
    "df['Stroke'].value_counts()"
   ]
  },
  {
   "cell_type": "code",
   "execution_count": null,
   "id": "cf132ea6-660b-432c-b6e5-9e927b5ee708",
   "metadata": {},
   "outputs": [],
   "source": [
    "# Run .describe() against the column to get summary statistics on numeric and object types\n",
    "df['Stroke'].describe()"
   ]
  },
  {
   "cell_type": "code",
   "execution_count": null,
   "id": "f292b1f8-6569-4405-934b-0af0d17d455e",
   "metadata": {},
   "outputs": [],
   "source": [
    "# Create histogram to view a preliminary spread of the data and distribution\n",
    "df['Stroke'].hist()"
   ]
  },
  {
   "cell_type": "markdown",
   "id": "2e2af148-abec-49d3-8587-4e97c61c2a46",
   "metadata": {},
   "source": [
    "### Complication_risk"
   ]
  },
  {
   "cell_type": "code",
   "execution_count": null,
   "id": "951a7995-374f-47a5-816a-bbff5143ed9a",
   "metadata": {},
   "outputs": [],
   "source": [
    "# Run .nunique() against the column to return the number of unique variables\n",
    "df['Complication_risk'].nunique()"
   ]
  },
  {
   "cell_type": "code",
   "execution_count": null,
   "id": "ff3c01a7-f284-4d1c-8945-ea669873c821",
   "metadata": {},
   "outputs": [],
   "source": [
    "# Run .value_counts() against the column to get the frequency of each distinct value in descending order\n",
    "df['Complication_risk'].value_counts()"
   ]
  },
  {
   "cell_type": "code",
   "execution_count": null,
   "id": "a0b9bda6-9a9e-4969-b2cb-c6de73554aa0",
   "metadata": {},
   "outputs": [],
   "source": [
    "# Run .describe() against the column to get summary statistics on numeric and object types\n",
    "df['Complication_risk'].describe()"
   ]
  },
  {
   "cell_type": "code",
   "execution_count": null,
   "id": "8d62b53c-8ca3-4919-87a8-a2a2fe4c7704",
   "metadata": {},
   "outputs": [],
   "source": [
    "# Create histogram to view a preliminary spread of the data and distribution\n",
    "df['Complication_risk'].hist()"
   ]
  },
  {
   "cell_type": "markdown",
   "id": "2a55772b-9b42-4047-98fb-27068e8c64a2",
   "metadata": {},
   "source": [
    "### Overweight"
   ]
  },
  {
   "cell_type": "code",
   "execution_count": null,
   "id": "3b6c0295-9015-44bf-9a4a-560917992b46",
   "metadata": {},
   "outputs": [],
   "source": [
    "# Run .nunique() against the column to return the number of unique variables\n",
    "df['Overweight'].nunique()"
   ]
  },
  {
   "cell_type": "code",
   "execution_count": null,
   "id": "0b278d5d-048f-4b41-817a-f14ba433fa7a",
   "metadata": {},
   "outputs": [],
   "source": [
    "# Run .value_counts() against the column to get the frequency of each distinct value in descending order\n",
    "df['Overweight'].value_counts()"
   ]
  },
  {
   "cell_type": "code",
   "execution_count": null,
   "id": "5b3dbe68-ca98-4fc2-8f06-f59d901db22f",
   "metadata": {},
   "outputs": [],
   "source": [
    "# Run .describe() against the column to get summary statistics on numeric and object types\n",
    "df['Overweight'].describe()"
   ]
  },
  {
   "cell_type": "code",
   "execution_count": null,
   "id": "19c7977f-42f0-4ef7-addc-92b2bcb5a48a",
   "metadata": {},
   "outputs": [],
   "source": [
    "# Create histogram to view a preliminary spread of the data and distribution\n",
    "df['Overweight'].hist()"
   ]
  },
  {
   "cell_type": "markdown",
   "id": "642205b2-da8b-4d5c-b816-e4d47449f49d",
   "metadata": {},
   "source": [
    "### Arthritis"
   ]
  },
  {
   "cell_type": "code",
   "execution_count": null,
   "id": "cf9ec243-2f34-490e-b9f1-8202ffbf1e7b",
   "metadata": {},
   "outputs": [],
   "source": [
    "# Run .nunique() against the column to return the number of unique variables\n",
    "df['Arthritis'].nunique()"
   ]
  },
  {
   "cell_type": "code",
   "execution_count": null,
   "id": "487b528a-21c9-4704-8e2d-418f687fc4d7",
   "metadata": {},
   "outputs": [],
   "source": [
    "# Run .value_counts() against the column to get the frequency of each distinct value in descending order\n",
    "df['Arthritis'].value_counts()"
   ]
  },
  {
   "cell_type": "code",
   "execution_count": null,
   "id": "f1b87b7c-77b1-48f5-b5b0-9dca93bbb5cf",
   "metadata": {},
   "outputs": [],
   "source": [
    "# Run .describe() against the column to get summary statistics on numeric and object types\n",
    "df['Arthritis'].describe()"
   ]
  },
  {
   "cell_type": "code",
   "execution_count": null,
   "id": "551b4109-a9de-4b56-a96b-80decaa08c87",
   "metadata": {},
   "outputs": [],
   "source": [
    "# Create histogram to view a preliminary spread of the data and distribution\n",
    "df['Arthritis'].hist()"
   ]
  },
  {
   "cell_type": "markdown",
   "id": "b17bbd55-ef46-4c12-8933-d2c223b0dba0",
   "metadata": {},
   "source": [
    "### Diabetes"
   ]
  },
  {
   "cell_type": "code",
   "execution_count": null,
   "id": "45bbbaf8-db3b-4725-bc98-0986216b7f9a",
   "metadata": {},
   "outputs": [],
   "source": [
    "# Run .nunique() against the column to return the number of unique variables\n",
    "df['Diabetes'].nunique()"
   ]
  },
  {
   "cell_type": "code",
   "execution_count": null,
   "id": "85370e38-cedb-4991-a8a5-7bbec56ba316",
   "metadata": {},
   "outputs": [],
   "source": [
    "# Run .value_counts() against the column to get the frequency of each distinct value in descending order\n",
    "df['Diabetes'].value_counts()"
   ]
  },
  {
   "cell_type": "code",
   "execution_count": null,
   "id": "f0169da4-90cb-41a8-ae2d-59e74c0f96c6",
   "metadata": {},
   "outputs": [],
   "source": [
    "# Run .describe() against the column to get summary statistics on numeric and object types\n",
    "df['Diabetes'].describe()"
   ]
  },
  {
   "cell_type": "code",
   "execution_count": null,
   "id": "9b4b93f9-efc7-4225-b9fb-536a2710d812",
   "metadata": {},
   "outputs": [],
   "source": [
    "# Create histogram to view a preliminary spread of the data and distribution\n",
    "df['Diabetes'].hist()"
   ]
  },
  {
   "cell_type": "markdown",
   "id": "54843637-6869-4445-bd07-6ecd8a8e9bbb",
   "metadata": {},
   "source": [
    "### Hyperlipidemia"
   ]
  },
  {
   "cell_type": "code",
   "execution_count": null,
   "id": "24adf92e-3089-4766-802b-96237f16e00d",
   "metadata": {},
   "outputs": [],
   "source": [
    "# Run .nunique() against the column to return the number of unique variables\n",
    "df['Hyperlipidemia'].nunique()"
   ]
  },
  {
   "cell_type": "code",
   "execution_count": null,
   "id": "edb122fc-2985-4048-95a1-6942b4332cbc",
   "metadata": {},
   "outputs": [],
   "source": [
    "# Run .value_counts() against the column to get the frequency of each distinct value in descending order\n",
    "df['Hyperlipidemia'].value_counts()"
   ]
  },
  {
   "cell_type": "code",
   "execution_count": null,
   "id": "8d391200-eb42-42bd-900b-732834f3904a",
   "metadata": {},
   "outputs": [],
   "source": [
    "# Run .describe() against the column to get summary statistics on numeric and object types\n",
    "df['Hyperlipidemia'].describe()"
   ]
  },
  {
   "cell_type": "code",
   "execution_count": null,
   "id": "02add6bb-db22-4192-8dc2-d9dfbc78282e",
   "metadata": {},
   "outputs": [],
   "source": [
    "# Create histogram to view a preliminary spread of the data and distribution\n",
    "df['Hyperlipidemia'].hist()"
   ]
  },
  {
   "cell_type": "markdown",
   "id": "e70efca9-e35b-4c19-bc1c-ed9f4e00fcf8",
   "metadata": {},
   "source": [
    "### BackPain"
   ]
  },
  {
   "cell_type": "code",
   "execution_count": null,
   "id": "5f68ac2a-fa6d-4d17-bc8b-17a7e3c30ca3",
   "metadata": {},
   "outputs": [],
   "source": [
    "# Run .nunique() against the column to return the number of unique variables\n",
    "df['BackPain'].nunique()"
   ]
  },
  {
   "cell_type": "code",
   "execution_count": null,
   "id": "e91453aa-0aec-417f-bfaf-54ee2cf99c46",
   "metadata": {},
   "outputs": [],
   "source": [
    "# Run .value_counts() against the column to get the frequency of each distinct value in descending order\n",
    "df['BackPain'].value_counts()"
   ]
  },
  {
   "cell_type": "code",
   "execution_count": null,
   "id": "b058f380-69c2-4ace-b6ef-7219effe3d47",
   "metadata": {},
   "outputs": [],
   "source": [
    "# Run .describe() against the column to get summary statistics on numeric and object types\n",
    "df['BackPain'].describe()"
   ]
  },
  {
   "cell_type": "code",
   "execution_count": null,
   "id": "b4472a34-c273-4e4c-91be-86d0024c1d60",
   "metadata": {},
   "outputs": [],
   "source": [
    "# Create histogram to view a preliminary spread of the data and distribution\n",
    "df['BackPain'].hist()"
   ]
  },
  {
   "cell_type": "markdown",
   "id": "693fe620-bba7-4be4-9940-eb2f38580500",
   "metadata": {},
   "source": [
    "### Anxiety"
   ]
  },
  {
   "cell_type": "code",
   "execution_count": null,
   "id": "34657d36-de99-47d9-a6af-e3902fd4f2e2",
   "metadata": {},
   "outputs": [],
   "source": [
    "# Run .nunique() against the column to return the number of unique variables\n",
    "df['Anxiety'].nunique()"
   ]
  },
  {
   "cell_type": "code",
   "execution_count": null,
   "id": "b116c96f-1d24-4e8a-90ab-e168db738cb8",
   "metadata": {},
   "outputs": [],
   "source": [
    "# Run .value_counts() against the column to get the frequency of each distinct value in descending order\n",
    "df['Anxiety'].value_counts()"
   ]
  },
  {
   "cell_type": "code",
   "execution_count": null,
   "id": "fab5743b-0e12-4bad-84d7-529ca31343ff",
   "metadata": {},
   "outputs": [],
   "source": [
    "# Run .describe() against the column to get summary statistics on numeric and object types\n",
    "df['Anxiety'].describe()"
   ]
  },
  {
   "cell_type": "code",
   "execution_count": null,
   "id": "3177f3a7-3552-42b1-acc6-42217a694b2f",
   "metadata": {},
   "outputs": [],
   "source": [
    "# Create histogram to view a preliminary spread of the data and distribution\n",
    "df['Anxiety'].hist();"
   ]
  },
  {
   "cell_type": "markdown",
   "id": "a51abc1f-70b3-4ad8-b4db-89c41e164b5b",
   "metadata": {},
   "source": [
    "### Alergic_rhinitis"
   ]
  },
  {
   "cell_type": "code",
   "execution_count": null,
   "id": "2b04368f-22a9-4dc2-abc5-16380c7a6520",
   "metadata": {},
   "outputs": [],
   "source": [
    "# Run .nunique() against the column to return the number of unique variables\n",
    "df['Allergic_rhinitis'].nunique()"
   ]
  },
  {
   "cell_type": "code",
   "execution_count": null,
   "id": "2dc778b5-bdd6-4bef-b3d2-990eea08c677",
   "metadata": {},
   "outputs": [],
   "source": [
    "# Run .value_counts() against the column to get the frequency of each distinct value in descending order\n",
    "df['Allergic_rhinitis'].value_counts()"
   ]
  },
  {
   "cell_type": "code",
   "execution_count": null,
   "id": "b90867cf-202c-43a6-9d06-7afd9d36aa26",
   "metadata": {},
   "outputs": [],
   "source": [
    "# Run .describe() against the column to get summary statistics on numeric and object types\n",
    "df['Allergic_rhinitis'].describe()"
   ]
  },
  {
   "cell_type": "code",
   "execution_count": null,
   "id": "77af1446-6d3d-4169-b102-870b4e977d9a",
   "metadata": {},
   "outputs": [],
   "source": [
    "# Create histogram to view a preliminary spread of the data and distribution\n",
    "df['Allergic_rhinitis'].hist();"
   ]
  },
  {
   "cell_type": "markdown",
   "id": "04d8d790-736e-48c2-bfbf-8b0a9ca12a9e",
   "metadata": {},
   "source": [
    "### Reflux_esophagitis"
   ]
  },
  {
   "cell_type": "code",
   "execution_count": null,
   "id": "3d3ae64a-a279-4174-913d-97fbb7705540",
   "metadata": {},
   "outputs": [],
   "source": [
    "# Run .nunique() against the column to return the number of unique variables\n",
    "df['Reflux_esophagitis'].nunique()"
   ]
  },
  {
   "cell_type": "code",
   "execution_count": null,
   "id": "ece55d24-6177-4d9d-a1ae-1db41874fa0f",
   "metadata": {},
   "outputs": [],
   "source": [
    "# Run .value_counts() against the column to get the frequency of each distinct value in descending order\n",
    "df['Reflux_esophagitis'].value_counts()"
   ]
  },
  {
   "cell_type": "code",
   "execution_count": null,
   "id": "2abe8abc-d1e0-4f7a-b795-e897f784d187",
   "metadata": {},
   "outputs": [],
   "source": [
    "# Run .describe() against the column to get summary statistics on numeric and object types\n",
    "df['Reflux_esophagitis'].describe()"
   ]
  },
  {
   "cell_type": "code",
   "execution_count": null,
   "id": "d8394fc3-5936-4e91-8deb-7e6d3c194899",
   "metadata": {},
   "outputs": [],
   "source": [
    "# Create histogram to view a preliminary spread of the data and distribution\n",
    "df['Reflux_esophagitis'].hist();"
   ]
  },
  {
   "cell_type": "markdown",
   "id": "005f33db-9c76-46ad-968b-b3746f1b8e6c",
   "metadata": {},
   "source": [
    "### Asthma"
   ]
  },
  {
   "cell_type": "code",
   "execution_count": null,
   "id": "417920e8-0e19-4d2a-9f9e-d00916d4a978",
   "metadata": {},
   "outputs": [],
   "source": [
    "# Run .nunique() against the column to return the number of unique variables\n",
    "df['Asthma'].nunique()"
   ]
  },
  {
   "cell_type": "code",
   "execution_count": null,
   "id": "65b4e799-4f85-4d47-96dc-ad26248fc4d9",
   "metadata": {},
   "outputs": [],
   "source": [
    "# Run .value_counts() against the column to get the frequency of each distinct value in descending order\n",
    "df['Asthma'].value_counts()"
   ]
  },
  {
   "cell_type": "code",
   "execution_count": null,
   "id": "d294ea71-ea71-484e-b10e-1c52da74ea4a",
   "metadata": {},
   "outputs": [],
   "source": [
    "# Run .describe() against the column to get summary statistics on numeric and object types\n",
    "df['Asthma'].describe()"
   ]
  },
  {
   "cell_type": "code",
   "execution_count": null,
   "id": "2350d17b-fc69-41b0-905c-7bf31d14ef08",
   "metadata": {},
   "outputs": [],
   "source": [
    "# Create histogram to view a preliminary spread of the data and distribution\n",
    "df['Asthma'].hist()"
   ]
  },
  {
   "cell_type": "markdown",
   "id": "9c81defa-c747-43ac-a5b1-076c281f591e",
   "metadata": {},
   "source": [
    "### Services"
   ]
  },
  {
   "cell_type": "code",
   "execution_count": null,
   "id": "fc46255b-a7c9-4a4f-8e44-6da4944e79ba",
   "metadata": {},
   "outputs": [],
   "source": [
    "# Run .nunique() against the column to return the number of unique variables\n",
    "df['Services'].nunique()"
   ]
  },
  {
   "cell_type": "code",
   "execution_count": null,
   "id": "ccd86cc6-962e-4538-ba0a-4d6c2ed7e2bd",
   "metadata": {},
   "outputs": [],
   "source": [
    "# Run .value_counts() against the column to get the frequency of each distinct value in descending order\n",
    "df['Services'].value_counts()"
   ]
  },
  {
   "cell_type": "code",
   "execution_count": null,
   "id": "97ade334-8402-4f4d-a9aa-3a9f69c7c953",
   "metadata": {},
   "outputs": [],
   "source": [
    "# Run .describe() against the column to get summary statistics on numeric and object types\n",
    "df['Services'].describe()"
   ]
  },
  {
   "cell_type": "code",
   "execution_count": null,
   "id": "3cb784ab-ff61-4191-b58f-3efdea95c6ea",
   "metadata": {},
   "outputs": [],
   "source": [
    "# Create histogram to view a preliminary spread of the data and distribution\n",
    "df['Services'].hist()"
   ]
  },
  {
   "cell_type": "markdown",
   "id": "0da030e0-254a-4b11-a817-ed50233c6d31",
   "metadata": {},
   "source": [
    "### Initial_days"
   ]
  },
  {
   "cell_type": "code",
   "execution_count": null,
   "id": "8a243890-cb17-4b45-b201-833d94118a5b",
   "metadata": {},
   "outputs": [],
   "source": [
    "# Run .nunique() against the column to return the number of unique variables\n",
    "df['Initial_days'].nunique()"
   ]
  },
  {
   "cell_type": "code",
   "execution_count": null,
   "id": "3b4dd94f-f7cb-44cf-a92b-d2e1f8b3fa53",
   "metadata": {},
   "outputs": [],
   "source": [
    "# Run .value_counts() against the column to get the frequency of each distinct value in descending order\n",
    "df['Initial_days'].value_counts()"
   ]
  },
  {
   "cell_type": "code",
   "execution_count": null,
   "id": "eac4e247-d5cd-4edd-8756-6a1b8fa658dd",
   "metadata": {},
   "outputs": [],
   "source": [
    "# Run .describe() against the column to get summary statistics on numeric and object types\n",
    "df['Initial_days'].describe()"
   ]
  },
  {
   "cell_type": "code",
   "execution_count": null,
   "id": "54efd2d2-e1c8-46c5-8086-f2dd00ca0545",
   "metadata": {},
   "outputs": [],
   "source": [
    "# Create histogram to view a preliminary spread of the data and distribution\n",
    "df['Initial_days'].hist();"
   ]
  },
  {
   "cell_type": "markdown",
   "id": "e0a4b538-bed8-4e7f-a629-bfec4f364c4e",
   "metadata": {},
   "source": [
    "### TotalCharge"
   ]
  },
  {
   "cell_type": "code",
   "execution_count": null,
   "id": "a6b40fee-7d66-4945-883b-7c48b7fe0183",
   "metadata": {},
   "outputs": [],
   "source": [
    "# Run .nunique() against the column to return the number of unique variables\n",
    "df['TotalCharge'].nunique()"
   ]
  },
  {
   "cell_type": "code",
   "execution_count": null,
   "id": "780b48bf-acda-42fb-aa7b-d01341b4f718",
   "metadata": {},
   "outputs": [],
   "source": [
    "# Run .value_counts() against the column to get the frequency of each distinct value in descending order\n",
    "df['TotalCharge'].value_counts()"
   ]
  },
  {
   "cell_type": "code",
   "execution_count": null,
   "id": "592c3006-ebf8-470d-80a8-af81eee6b59d",
   "metadata": {},
   "outputs": [],
   "source": [
    "# Run .describe() against the column to get summary statistics on numeric and object types\n",
    "df['TotalCharge'].describe()"
   ]
  },
  {
   "cell_type": "code",
   "execution_count": null,
   "id": "b5044822-bf20-4664-968f-fba72b09ee9d",
   "metadata": {},
   "outputs": [],
   "source": [
    "# Create histogram to view a preliminary spread of the data and distribution\n",
    "df['TotalCharge'].hist()"
   ]
  },
  {
   "cell_type": "markdown",
   "id": "d623afcd-43cc-4261-9dd0-8b6e8c2c7b82",
   "metadata": {},
   "source": [
    "### Additional_charges"
   ]
  },
  {
   "cell_type": "code",
   "execution_count": null,
   "id": "64841e1a-6809-4fa7-855b-e15db1f1afef",
   "metadata": {},
   "outputs": [],
   "source": [
    "# Run .nunique() against the column to return the number of unique variables\n",
    "df['Additional_charges'].nunique()"
   ]
  },
  {
   "cell_type": "code",
   "execution_count": null,
   "id": "a41a4e3d-5e7d-4492-94c6-7de79a527577",
   "metadata": {},
   "outputs": [],
   "source": [
    "# Run .value_counts() against the column to get the frequency of each distinct value in descending order\n",
    "df['Additional_charges'].value_counts()"
   ]
  },
  {
   "cell_type": "code",
   "execution_count": null,
   "id": "5af16a8c-49b9-4770-95dd-3b7c46650725",
   "metadata": {},
   "outputs": [],
   "source": [
    "# Run .describe() against the column to get summary statistics on numeric and object types\n",
    "df['Additional_charges'].describe()"
   ]
  },
  {
   "cell_type": "code",
   "execution_count": null,
   "id": "50730b4f-58b2-4275-8418-fdb032612855",
   "metadata": {},
   "outputs": [],
   "source": [
    "# Create histogram to view a preliminary spread of the data and distribution\n",
    "df['Additional_charges'].hist()"
   ]
  },
  {
   "cell_type": "markdown",
   "id": "47cbfd4a-a734-4c18-b0f2-fdd0a9641900",
   "metadata": {},
   "source": [
    "### Item1 (Survey Question)"
   ]
  },
  {
   "cell_type": "code",
   "execution_count": null,
   "id": "9fdfbfc5-b079-485e-b734-0be4f025c357",
   "metadata": {},
   "outputs": [],
   "source": [
    "# Run .nunique() against the column to return the number of unique variables\n",
    "df['Item1'].nunique()"
   ]
  },
  {
   "cell_type": "code",
   "execution_count": null,
   "id": "3f500a07-1a6a-491b-9839-41a78bd2cbd4",
   "metadata": {},
   "outputs": [],
   "source": [
    "# Run .value_counts() against the column to get the frequency of each distinct value in descending order\n",
    "df['Item1'].value_counts()"
   ]
  },
  {
   "cell_type": "code",
   "execution_count": null,
   "id": "c9f9ab4d-3a81-40b9-a7bc-b2f90575e563",
   "metadata": {},
   "outputs": [],
   "source": [
    "# Run .describe() against the column to get summary statistics on numeric and object types\n",
    "df['Item1'].describe()"
   ]
  },
  {
   "cell_type": "code",
   "execution_count": null,
   "id": "7e56265e-d9cc-42cd-b76e-f6363d002b81",
   "metadata": {},
   "outputs": [],
   "source": [
    "# Create histogram to view a preliminary spread of the data and distribution\n",
    "df['Item1'].hist(bins=8)"
   ]
  },
  {
   "cell_type": "markdown",
   "id": "ad25e783-6bd6-4399-99fe-1517a3e82278",
   "metadata": {},
   "source": [
    "### Item2 (Survey Question)"
   ]
  },
  {
   "cell_type": "code",
   "execution_count": null,
   "id": "9cf3e336-da8a-4775-8850-e7944a3f075e",
   "metadata": {},
   "outputs": [],
   "source": [
    "# Run .nunique() against the column to return the number of unique variables\n",
    "df['Item2'].nunique()"
   ]
  },
  {
   "cell_type": "code",
   "execution_count": null,
   "id": "8ab33574-1a2f-4344-90c4-94750e9cd87c",
   "metadata": {},
   "outputs": [],
   "source": [
    "# Run .value_counts() against the column to get the frequency of each distinct value in descending order\n",
    "df['Item2'].value_counts()"
   ]
  },
  {
   "cell_type": "code",
   "execution_count": null,
   "id": "faeff221-d01d-4129-abc2-322c09f615b5",
   "metadata": {},
   "outputs": [],
   "source": [
    "# Run .describe() against the column to get summary statistics on numeric and object types\n",
    "df['Item2'].describe()"
   ]
  },
  {
   "cell_type": "code",
   "execution_count": null,
   "id": "dfdfbf38-f785-4827-911c-340664e7c9e7",
   "metadata": {},
   "outputs": [],
   "source": [
    "# Create histogram to view a preliminary spread of the data and distribution\n",
    "df['Item2'].hist(bins=8)"
   ]
  },
  {
   "cell_type": "markdown",
   "id": "ac6d03d9-2d9c-4953-b54c-3457567968c0",
   "metadata": {},
   "source": [
    "### Item 3 (Survey Question)"
   ]
  },
  {
   "cell_type": "code",
   "execution_count": null,
   "id": "dc5c4851-ef7a-412d-9001-fe63b89d5b2b",
   "metadata": {},
   "outputs": [],
   "source": [
    "# Run .nunique() against the column to return the number of unique variables\n",
    "df['Item3'].nunique()"
   ]
  },
  {
   "cell_type": "code",
   "execution_count": null,
   "id": "92dcde65-b192-4bf7-9523-7d2d1ad47e2b",
   "metadata": {},
   "outputs": [],
   "source": [
    "# Run .value_counts() against the column to get the frequency of each distinct value in descending order\n",
    "df['Item3'].value_counts()"
   ]
  },
  {
   "cell_type": "code",
   "execution_count": null,
   "id": "ecb985c6-a251-43e2-951c-119a7a39f367",
   "metadata": {},
   "outputs": [],
   "source": [
    "# Run .describe() against the column to get summary statistics on numeric and object types\n",
    "df['Item3'].describe()"
   ]
  },
  {
   "cell_type": "code",
   "execution_count": null,
   "id": "53df8893-5f0c-478e-90f1-ece6b162be19",
   "metadata": {},
   "outputs": [],
   "source": [
    "# Create histogram to view a preliminary spread of the data and distribution\n",
    "df['Item3'].hist(bins=8)"
   ]
  },
  {
   "cell_type": "markdown",
   "id": "94b8334d-7e23-4541-91b8-22e225e1bc92",
   "metadata": {},
   "source": [
    "### Item4 (Survey Question)"
   ]
  },
  {
   "cell_type": "code",
   "execution_count": null,
   "id": "cbac527a-db99-497b-a321-412487945f4f",
   "metadata": {},
   "outputs": [],
   "source": [
    "# Run .nunique() against the column to return the number of unique variables\n",
    "df['Item4'].nunique()"
   ]
  },
  {
   "cell_type": "code",
   "execution_count": null,
   "id": "23af220a-b234-4ba5-8db8-eb74be858431",
   "metadata": {},
   "outputs": [],
   "source": [
    "# Run .value_counts() against the column to get the frequency of each distinct value in descending order\n",
    "df['Item4'].value_counts()"
   ]
  },
  {
   "cell_type": "code",
   "execution_count": null,
   "id": "3a5fc9b7-ff3a-4068-a471-4ba26e0b106e",
   "metadata": {},
   "outputs": [],
   "source": [
    "# Run .describe() against the column to get summary statistics on numeric and object types\n",
    "df['Item4'].describe()"
   ]
  },
  {
   "cell_type": "code",
   "execution_count": null,
   "id": "6f6ebe8c-7110-4c8c-9f35-efd4c43c3bee",
   "metadata": {},
   "outputs": [],
   "source": [
    "# Create histogram to view a preliminary spread of the data and distribution\n",
    "df['Item4'].hist(bins=8);"
   ]
  },
  {
   "cell_type": "markdown",
   "id": "164ee751-affa-41b1-8287-7be5369a942f",
   "metadata": {},
   "source": [
    "### Item5 (Survey Question)"
   ]
  },
  {
   "cell_type": "code",
   "execution_count": null,
   "id": "3dbe9d27-1294-49e4-baa5-c53ee3873aca",
   "metadata": {},
   "outputs": [],
   "source": [
    "# Run .nunique() against the column to return the number of unique variables\n",
    "df['Item5'].nunique()"
   ]
  },
  {
   "cell_type": "code",
   "execution_count": null,
   "id": "9ac29ee5-feb4-4544-8378-5e82a7fdd7e7",
   "metadata": {},
   "outputs": [],
   "source": [
    "# Run .value_counts() against the column to get the frequency of each distinct value in descending order\n",
    "df['Item5'].value_counts()"
   ]
  },
  {
   "cell_type": "code",
   "execution_count": null,
   "id": "814a8037-165a-461c-9131-1a6812f29501",
   "metadata": {},
   "outputs": [],
   "source": [
    "# Run .describe() against the column to get summary statistics on numeric and object types\n",
    "df['Item5'].describe()"
   ]
  },
  {
   "cell_type": "code",
   "execution_count": null,
   "id": "add37e97-facf-43a6-bece-f0619238d61e",
   "metadata": {},
   "outputs": [],
   "source": [
    "# Create histogram to view a preliminary spread of the data and distribution\n",
    "df['Item5'].hist(bins=8);"
   ]
  },
  {
   "cell_type": "markdown",
   "id": "084dda90-05ab-4b79-afba-724700d1dcc9",
   "metadata": {},
   "source": [
    "### Item6 (Survey Question)"
   ]
  },
  {
   "cell_type": "code",
   "execution_count": null,
   "id": "8235f680-6625-4ac7-8c8f-9441a4f03211",
   "metadata": {},
   "outputs": [],
   "source": [
    "# Run .nunique() against the column to return the number of unique variables\n",
    "df['Item6'].nunique()"
   ]
  },
  {
   "cell_type": "code",
   "execution_count": null,
   "id": "652552e8-e646-48c6-989d-e87016f3ae44",
   "metadata": {},
   "outputs": [],
   "source": [
    "# Run .value_counts() against the column to get the frequency of each distinct value in descending order\n",
    "df['Item6'].value_counts()"
   ]
  },
  {
   "cell_type": "code",
   "execution_count": null,
   "id": "f279c81c-6fef-4760-b4c2-4b43b80b7479",
   "metadata": {},
   "outputs": [],
   "source": [
    "# Run .describe() against the column to get summary statistics on numeric and object types\n",
    "df['Item6'].describe()"
   ]
  },
  {
   "cell_type": "code",
   "execution_count": null,
   "id": "ec107a6a-4641-4f70-be94-b03c6fe9c7bd",
   "metadata": {},
   "outputs": [],
   "source": [
    "# Create histogram to view a preliminary spread of the data and distribution\n",
    "df['Item6'].hist(bins=8)"
   ]
  },
  {
   "cell_type": "markdown",
   "id": "8ce90ccf-a119-4920-91a0-860760a3f7fa",
   "metadata": {},
   "source": [
    "### Item7 (Survey Question)"
   ]
  },
  {
   "cell_type": "code",
   "execution_count": null,
   "id": "b28459e7-2dda-444f-8fc2-ee02838cf11f",
   "metadata": {},
   "outputs": [],
   "source": [
    "# Run .nunique() against the column to return the number of unique variables\n",
    "df['Item7'].nunique()"
   ]
  },
  {
   "cell_type": "code",
   "execution_count": null,
   "id": "501ec573-7d13-4405-b142-7b61a8496a6c",
   "metadata": {},
   "outputs": [],
   "source": [
    "# Run .value_counts() against the column to get the frequency of each distinct value in descending order\n",
    "df['Item7'].value_counts()"
   ]
  },
  {
   "cell_type": "code",
   "execution_count": null,
   "id": "455748c3-0410-420e-bd2f-a461aa448119",
   "metadata": {},
   "outputs": [],
   "source": [
    "# Run .describe() against the column to get summary statistics on numeric and object types\n",
    "df['Item7'].describe()"
   ]
  },
  {
   "cell_type": "code",
   "execution_count": null,
   "id": "c1dbbd4c-80cc-432f-b5cd-b1233e536256",
   "metadata": {},
   "outputs": [],
   "source": [
    "# Create histogram to view a preliminary spread of the data and distribution\n",
    "df['Item7'].hist(bins=8)"
   ]
  },
  {
   "cell_type": "markdown",
   "id": "67da660b-d9c4-4859-b5a4-fea08d3d08da",
   "metadata": {},
   "source": [
    "### Item8 (Survey Question)"
   ]
  },
  {
   "cell_type": "code",
   "execution_count": null,
   "id": "32b74005-2b79-4138-97c4-32b0c8f6339a",
   "metadata": {},
   "outputs": [],
   "source": [
    "# Run .nunique() against the column to return the number of unique variables\n",
    "df['Item8'].nunique()"
   ]
  },
  {
   "cell_type": "code",
   "execution_count": null,
   "id": "e1c39ad1-851f-48f2-a664-4cd931aaa041",
   "metadata": {},
   "outputs": [],
   "source": [
    "# Run .value_counts() against the column to get the frequency of each distinct value in descending order\n",
    "df['Item8'].value_counts()"
   ]
  },
  {
   "cell_type": "code",
   "execution_count": null,
   "id": "f93b6dfb-cd0e-492d-b846-191840ccfce9",
   "metadata": {},
   "outputs": [],
   "source": [
    "# Run .describe() against the column to get summary statistics on numeric and object types\n",
    "df['Item8'].describe()"
   ]
  },
  {
   "cell_type": "code",
   "execution_count": null,
   "id": "f1876bf5-cea6-485d-af45-72aeef6f445f",
   "metadata": {},
   "outputs": [],
   "source": [
    "# Create histogram to view a preliminary spread of the data and distribution\n",
    "df['Item8'].hist(bins=8)"
   ]
  },
  {
   "cell_type": "code",
   "execution_count": null,
   "id": "02703823-0734-48c1-9e3d-879c2047eede",
   "metadata": {},
   "outputs": [],
   "source": []
  }
 ],
 "metadata": {
  "kernelspec": {
   "display_name": "Python 3 (ipykernel)",
   "language": "python",
   "name": "python3"
  },
  "language_info": {
   "codemirror_mode": {
    "name": "ipython",
    "version": 3
   },
   "file_extension": ".py",
   "mimetype": "text/x-python",
   "name": "python",
   "nbconvert_exporter": "python",
   "pygments_lexer": "ipython3",
   "version": "3.12.4"
  }
 },
 "nbformat": 4,
 "nbformat_minor": 5
}
